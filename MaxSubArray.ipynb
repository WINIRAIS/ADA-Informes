{
  "nbformat": 4,
  "nbformat_minor": 0,
  "metadata": {
    "colab": {
      "name": "MaxSubArray.ipynb",
      "provenance": [],
      "include_colab_link": true
    },
    "kernelspec": {
      "name": "python3",
      "display_name": "Python 3"
    },
    "language_info": {
      "name": "python"
    }
  },
  "cells": [
    {
      "cell_type": "markdown",
      "metadata": {
        "id": "view-in-github",
        "colab_type": "text"
      },
      "source": [
        "<a href=\"https://colab.research.google.com/github/WINIRAIS/ADA-Informes/blob/main/MaxSubArray.ipynb\" target=\"_parent\"><img src=\"https://colab.research.google.com/assets/colab-badge.svg\" alt=\"Open In Colab\"/></a>"
      ]
    },
    {
      "cell_type": "markdown",
      "source": [
        "# 1. Problema Resolución de Recurrencia Máximo Sub Arreglo\n"
      ],
      "metadata": {
        "id": "eJMMpRMUnth0"
      }
    },
    {
      "cell_type": "markdown",
      "source": [
        "**Entrada**: Una secuencia de números de tamaño N  $[a_1,a_2,...,a_n]$, un parámetro $low$ el cual es un indice inicial de arreglo, que será $\"=0\"$, y un $high = len(array)$ indice final del arreglo\\\n",
        "**Salida**: La suma máxima de un subarrglo del mismo $array$ ingresado\n",
        "\n",
        "\n",
        "\n",
        "![image](https://media.geeksforgeeks.org/wp-content/cdn-uploads/kadane-Algorithm.png)"
      ],
      "metadata": {
        "id": "hDONHalTn8Xu"
      }
    },
    {
      "cell_type": "markdown",
      "source": [
        "# 2. MaxSubArray"
      ],
      "metadata": {
        "id": "gtuGJesKzZbh"
      }
    },
    {
      "cell_type": "markdown",
      "source": [
        "El siguiente código muestra la implementación del **MaxSubArray**\n"
      ],
      "metadata": {
        "id": "atm-llzMntpm"
      }
    },
    {
      "cell_type": "markdown",
      "source": [
        "# 2.1. Código"
      ],
      "metadata": {
        "id": "ptCMY4bhoys-"
      }
    },
    {
      "cell_type": "code",
      "source": [
        "import random \n",
        "from termcolor import colored as color\n",
        "def MaxSubArray(array,low,high):\n",
        "  if(len(array) == 1): return array[0]\n",
        "  \n",
        "  global llamadas\n",
        "  mid = (low + high)//2\n",
        "  left = array[:mid] \n",
        "  right = array[mid:]\n",
        "\n",
        "  max_left= MaxSubArray(left, 0, len(left))\n",
        "  llamadas +=1\n",
        "  max_right = MaxSubArray(right, 0, len(right))\n",
        "  llamadas +=1\n",
        "  max_mid = MaxMidArray(array, mid)\n",
        "  \n",
        "  return max(max_left, max_right, max_mid)\n",
        "\n",
        "\n",
        "def MaxMidArray(array,mid):\n",
        "  sum = 0\n",
        "  max_left = -1000000000\n",
        "  for i in array[mid-1::-1]:\n",
        "    sum = sum +i\n",
        "    if(sum > max_left):\n",
        "      max_left = sum\n",
        "\n",
        "  sum = 0\n",
        "  max_right = -1000000000\n",
        "  for i in array[mid:]:\n",
        "    sum = sum + i\n",
        "    if(sum > max_right):\n",
        "      max_right = sum \n",
        "  return max_left + max_right\n",
        "\n",
        "llamadas = 0\n",
        "var = random.randint(1,10)\n",
        "a = random.sample(range(-100, 100), var)\n",
        "\n",
        "b=MaxSubArray(a,0,len(a))\n",
        "print(color(\"Entrada :\",\"red\"),a)\n",
        "print(color(\"Suma Sub Arreglo : \",\"blue\"),b)\n",
        "print(color(\"LLamadas recursivas : \", \"yellow\"),llamadas)"
      ],
      "metadata": {
        "colab": {
          "base_uri": "https://localhost:8080/"
        },
        "id": "yV9rUd7uo50M",
        "outputId": "dfba0da1-377a-4f71-cd05-caabacc5d586"
      },
      "execution_count": 9,
      "outputs": [
        {
          "output_type": "stream",
          "name": "stdout",
          "text": [
            "\u001b[31mEntrada :\u001b[0m [27, -80]\n",
            "\u001b[34mSuma Sub Arreglo : \u001b[0m 27\n",
            "\u001b[33mLLamadas recursivas : \u001b[0m 2\n"
          ]
        }
      ]
    },
    {
      "cell_type": "code",
      "source": [
        "# Derechos del algoritmo : https://www.techiedelight.com/es/maximum-subarray-problem-kadanes-algorithm/\n",
        "def kadane(A):\n",
        " \n",
        "    max_so_far = 0\n",
        "    max_ending_here = 0\n",
        "\n",
        "    for i in A:\n",
        "        max_ending_here = max_ending_here + i\n",
        "        max_ending_here = max(max_ending_here, 0)\n",
        "        max_so_far = max(max_so_far, max_ending_here)\n",
        " \n",
        "    return max_so_far\n",
        " \n",
        "var = random.randint(2,10)\n",
        "A = random.sample(range(-100, 100), var)\n",
        "b=kadane(A)\n",
        "\n",
        "print(color(\"Entrada :\",\"red\"),A)\n",
        "print(color(\"Suma Sub Arreglo :\",\"blue\"),b)"
      ],
      "metadata": {
        "colab": {
          "base_uri": "https://localhost:8080/"
        },
        "outputId": "fbfd877c-5007-4d01-d402-3b04297c1a1a",
        "id": "ZJJK5G1Hw6Bx"
      },
      "execution_count": 15,
      "outputs": [
        {
          "output_type": "stream",
          "name": "stdout",
          "text": [
            "\u001b[31mEntrada :\u001b[0m [-51, -85]\n",
            "\u001b[34mSuma Sub Arreglo :\u001b[0m 0\n"
          ]
        }
      ]
    },
    {
      "cell_type": "markdown",
      "source": [
        "# 2.2. Descripción del algoritmo"
      ],
      "metadata": {
        "id": "MIBIW2xvziFK"
      }
    },
    {
      "cell_type": "markdown",
      "source": [
        "El algoritmo recibe una lista o un arreglo A con una cantidad de N elementos, \n",
        "los cuales son entregados de forma aleatoria, donde el algoritmo busca encontrar la máxima suma encontrada de los subarreglos que genera, el array entregado inicialmente, este problema se busca resolverlo mediante una técnica ya conocida la cual es $divide$ $y$ $vencerás$, esta se aplicara durante la mantención del algoritmo que es cundo se busca el lado izquierdo y el derecho, además cuando se busca la máxima suma de los subarreglos.\n",
        "\n",
        "1.   Parte a la mitad el arreglo, dejando la la parte derecha en almacenada en un parámetro, haciendo lo mismo con el lado izquierdo, hay que destacar que estos datos son listas, o arreglos.\n",
        "2.   Luego comienza a buscar los máximos de cada lado de forma recursiva , lado izquierdo (`max_left= MaxSubArray(left, 0, len(left))`), y lo mismo para el lado derecho(`max_right = MaxSubArray(right, 0, len(right))`), estos valoros son de tipo enteros.\n",
        "3.   Ahora solo faltaría encontrar el subarreglo de al medio, o el que cruza los datos para luego comparar los datos, este se encuentra con una función aparte la cual se define $MaxMidArray$, la cual cumple con encontrar la suma que maximiza los elementos de al medio\n",
        "4.   Finalmente se implementa la función de Python $max(max_left, max_right, max_mid)$ la cual me retorna el valor máximo, entre los parámetros enviados.\n"
      ],
      "metadata": {
        "id": "N6ly5zvhzuRv"
      }
    },
    {
      "cell_type": "markdown",
      "source": [
        "Nótese de que si el arreglo o lista es de largo 1 , el algoritmo se detendrá asumiendo que la suma máxima del arreglo es el mismo elemento existente, ya que solo existe un dato lo cual provoca que no existieran datos mayores a este,también hay que destacar que si el arreglo está lleno de datos de carácter positivo el Maxsubarray será el mismo arreglo ingresado siendo la suma máxima, la suma total de los elementos del arreglo."
      ],
      "metadata": {
        "id": "-dL23xepH8tg"
      }
    },
    {
      "cell_type": "markdown",
      "source": [
        "#3. **Tiempo de ejecución** \n",
        "**Teorema (Tiempo de ejecución).**\\\n",
        "El algoritmo **MaxSubArray** tiene un `tiempo de ejecución` de **o($n· logn$)** , el mejor y el peor caso son iguales dando como resultado $O(n \\cdot logn)$, por lo que la cota asintótica es $Θ(n \\cdot logn)$.\n",
        "####3.1 **Método Maestro**  \n",
        "Estudiaremos y analizaremos el tiempo de ejecución del algoritmo MaxSubArray.  \n",
        "Como siempre, trabajaremos con un arreglo inicial de largo $n$.\n",
        "\n",
        "Para empezar, averiguaremos el tiempo de ejecución de este algoritmo mediante un simpe método, que consiste en analizar la estructura de la función que representa MaxSubArray.  \n",
        "- $T(n)= 2T(n/2) + O(n)$\n",
        "\n",
        "Siguiendo la siguiente estructura: $T(n) \\leq aT(n/b)+O(n^d)$, podemos darnos cuenta que para el algoritmo que estamos estudiando actualmente, los valores serían los siguientes:  \n",
        "- $a = 2$\n",
        "- $b = 2$\n",
        "- $d = 1$\n",
        "\n",
        "Teniendo estos valores, y observando las opciones que tenemos más abajo, podemos percatarnos que $a = b^d$, esto quiere decir que el tiempo de ejecución del algoritmo MaxSubArray es de $O(n \\cdot logn)$.\n",
        "![image.png](https://chartreuse-goal-d5c.notion.site/image/https%3A%2F%2Fs3-us-west-2.amazonaws.com%2Fsecure.notion-static.com%2F6be820c4-964e-44c1-acbd-db888889e8df%2FUntitled.png?table=block&id=1f05807a-07c4-4bd5-a59a-4402523d7383&spaceId=4f8bebe4-a843-44d2-b6ee-51e2006a90d1&width=1150&userId=&cache=v2)\n"
      ],
      "metadata": {
        "id": "FcC86rWOXoVi"
      }
    },
    {
      "cell_type": "markdown",
      "source": [
        "3.2 **Método de Sustitución**  \n",
        "Para asegurarnos el tiempo de ejecución es correcto, vamos a afirmarlo utilizando el método de sustitución.  \n",
        "Como inicio, debemos tener una hipótesis, la cuál es que el tiempo de ejecución de este algoritmo es de $O(n \\cdot logn)$.  \n",
        "Hay que demostrar que $T(n) = O(n \\cdot logn)$, para eso haremos pequeñas preparaciones para los cálculos futuros.\n",
        "- $T(n) \\leq d \\cdot n \\cdot logn$  \n",
        "\n",
        "Teniendo que $T(n) = 2T(n/2) + O(n)$, cambiaremos la Big-O por una constante $c$, reemplazaremos lo que recibe $T$ recursivamente a la hipotética complejidad temporal y cada función $T$ a una $d$, obteniendo lo siguiente: \n",
        "- $2d \\cdot n/2 \\cdot log(n/2)+cn \\leq dn \\cdot logn$ \n",
        "\n",
        "Ahora hay que hacer cálculos matemáticos, y después de unos paso, se obtiene que:\n",
        "- $dn \\cdot logn - dn + cn \\leq dn \\cdot logn$\n",
        "\n",
        "Analizando lo obtenido, se puede afirmar que para todo $d \\geq c$, esta desigualdad se cumple, asegurándonos que el tiempo de ejecución del algoritmo MaxSubArray es $O(n \\cdot logn)$.  \n"
      ],
      "metadata": {
        "id": "FOzoRYMWZ9km"
      }
    },
    {
      "cell_type": "markdown",
      "source": [
        "# 4. Correctitud\n",
        "\n",
        "###**Probar Correctitud de MaxSubArrayMid**\n",
        "Comprobaremos si la función MaxSubArrayMid es correcta, usando inducción matemática, para eso hay que demostrar que funciona para:\n",
        "- **Caso Base:** Teniendo un arreglo de largo $n$, con $n = 1$.\n",
        "- **Caso General:** Cuando se tiene un arreglo de largo $n$, con $n > 1$.\n",
        "\n",
        "Para esto, primero estudiaremos el caso base:  \n",
        "Cuando se tiene un arreglo de un sólo elemento, éste conformará el sub-arreglo máximo, lógicamente.  \n",
        "Esto comprueba que el algoritmo con el caso base es correcto.\n",
        "\n",
        "Ahora, para demostrar el caso general, probaremos que el algoritmo es correcto para arreglos de largo $n$, con $n > 1$.  \n",
        "Si estudiamos un arreglo de largo $n$, se conseguirá un sub-arreglo máximo izquierdo Array$[i, mid]$ y también un sub-arreglo máximo derecho Array$[mid+1, j]$, con tan sólo recorriendolos, y se retornará el arreglo de los dos concatenados. Esto demuestra que la función demuestra que cumple su cometido, retornando el sub-arreglo máximo.\n",
        "###**Probar Correctitud de MaxSubArray**\n",
        "Para esta fucnión también usaremos inducción matemática.\n",
        "\n",
        "**Caso Base:**  \n",
        "Con arreglos de largo $1$, este retornará sólo el elemento que contiene.\n",
        "\n",
        "**Caso General:**  \n",
        "Para este caso, tendremos que comprobar que la función es correcta para arreglos de largo $m$, con $m < n$.  \n",
        "Si MaxSubArray recibe un arreglo de largo $n$, este se sub-dividirá, obteniendo arreglos de largo $m$, con $m = n/2$, de esta manera, se comprueba que la función es correcta. Después, estos arreglos reducidos se irán dividiendo recursivamente, hasta obtener múltiples casos bases, afirmando aún más que funciona en arreglos de largo $n$. "
      ],
      "metadata": {
        "id": "Cr0EyQt62wFD"
      }
    },
    {
      "cell_type": "markdown",
      "source": [
        "# 5. Experimentos\n"
      ],
      "metadata": {
        "id": "xH5oCWC1aWXS"
      }
    },
    {
      "cell_type": "markdown",
      "source": [
        "# 5.1. Número de comparaciones\n",
        "\n",
        "A continuación se muestra gráficamente una comparación entre:\n",
        "\n",
        "* cantidad de comparaciones del peor caso calculadas matemáticamente,\n",
        "* cantidad de comparaciones del mejor caso calculadas matemáticamente (n-1 comparaciones si el arreglo está ordenado)\n",
        "* cantidad de comparaciones realizadas experimentalmente para entradas aleatorias\n",
        "\n",
        "para tamaños de problemas con $n \\in [5,20]$.\n",
        "\n",
        "Los arreglos de entrada son generados aleatoriamente haciendo un sampling de un conjunto de números entre 1 y 100."
      ],
      "metadata": {
        "id": "j0lA6O74aehi"
      }
    },
    {
      "cell_type": "code",
      "source": [
        "import matplotlib.pyplot as plt\n",
        "import math\n",
        "\n",
        "x=[n for n in range(5,20)] \n",
        "y1=[n* math.log(n) for n in range(5,20)] # pero caso\n",
        "y2=[n* math.log(n) for n in range(5,20)] # mejor caso\n",
        "y=[]; \n",
        "\n",
        "for n in range(5,20):\n",
        "  a = random.sample(range(1, 100), n)\n",
        "  comp = 0\n",
        "  a = MaxSubArray(a,0,len(a))\n",
        "  y.append(comp)\n",
        "\n",
        "plt.plot(x,y,color='red')\n",
        "plt.plot(x,y1,color='blue')\n",
        "plt.plot(x,y2,color='black')\n",
        "plt.legend([\"Merge Sort\", \"Peor caso teoricamente\", \"Mejor caso teoricamente\"])\n",
        "\n",
        "\n",
        "plt.xlabel('n')\n",
        "plt.ylabel('number of operations')\n",
        "plt.show()"
      ],
      "metadata": {
        "colab": {
          "base_uri": "https://localhost:8080/",
          "height": 279
        },
        "id": "WX-HP1xuaO_B",
        "outputId": "d0c578ba-c33b-4c37-a551-286f2a8db182"
      },
      "execution_count": 16,
      "outputs": [
        {
          "output_type": "display_data",
          "data": {
            "text/plain": [
              "<Figure size 432x288 with 1 Axes>"
            ],
            "image/png": "[encoded data removed]"
          },
          "metadata": {
            "needs_background": "light"
          }
        }
      ]
    },
    {
      "cell_type": "markdown",
      "source": [
        "**Análisis de resultados**\n",
        "\n",
        "Como se puede observar los comportamientos son casi iguales ya que , el mejor y el peor caso teoricamente tambien lo son, donde se deja en evidencia que la complejidad del algoritmo tiene una **cota asintotica** de orden $𝚯(nlog(n))$, es decir $O(nlog(n)) = Ω(nlog(n))$ ."
      ],
      "metadata": {
        "id": "Z8oFhffLaz-5"
      }
    },
    {
      "cell_type": "markdown",
      "source": [
        "# 5.2. Tiempo de ejecución(experimental)\n",
        "En el siguiente gráfico se reporta el tiempo de ejecución del algoritmo **MaxSubArray** en función del tamaño del problema para arreglos generados aleatoriamente de tamaños entre $5$ y $500$ con elementos dados de $[-1000,1000]$."
      ],
      "metadata": {
        "id": "BeygG4LFgQE7"
      }
    },
    {
      "cell_type": "code",
      "source": [
        "import matplotlib.pyplot as plt\n",
        "import datetime\n",
        "from timeit import repeat\n",
        "\n",
        "x=[]; y=[];y2=[]\n",
        "\n",
        "for n in range(5,500):\n",
        "\n",
        "  a = random.sample(range(-1000, 1000), n)\n",
        "\n",
        "  t = repeat(setup=\"from __main__ import MaxSubArray\", stmt=f\"MaxSubArray({a},{0},{len(a)})\", repeat=1, number=10)\n",
        "  t2 = repeat(setup=\"from __main__ import kadane\", stmt=f\"kadane({a})\", repeat=1, number=10)\n",
        "\n",
        "  x.append(n)\n",
        "  y.append(t)\n",
        "  y2.append(t2)\n",
        "\n",
        "\n",
        "plt.plot(x,y)\n",
        "plt.plot(x,y2)\n",
        "plt.legend([\"MaxSubArray\",\"kadane\"])\n",
        "\n",
        "\n",
        "plt.xlabel('n')\n",
        "plt.ylabel('time in ms')\n",
        "plt.show()"
      ],
      "metadata": {
        "colab": {
          "base_uri": "https://localhost:8080/",
          "height": 279
        },
        "id": "X8pvU36xh0z0",
        "outputId": "235f0f85-50ff-45ff-a4f7-791199ec6a81"
      },
      "execution_count": 18,
      "outputs": [
        {
          "output_type": "display_data",
          "data": {
            "text/plain": [
              "<Figure size 432x288 with 1 Axes>"
            ],
            "image/png": "[encoded data removed]"
          },
          "metadata": {
            "needs_background": "light"
          }
        }
      ]
    },
    {
      "cell_type": "markdown",
      "source": [
        "### Análisis de resultados\n",
        "\n",
        "La comparación en relación al tiempo de ambos algoritmos deja en evidencia de que kadane es mucho mejor que el MaxSubArray, ya que como se puede observar, el MaxSubArray tiene un comportamiento prácticamente lineal pero con un pendiente mucho mas grande,  kadane de igual forma es lineal, pero obteniendo valores en el eje Y que es el tiempo mucho mas bajos que el MaxSubArray, ya que su pendiente seria mucho mas chica que la de MaxSubArray, por lo tanto se deja en evidencia que en cuestion de tiempo kadane es mucho mejor ."
      ],
      "metadata": {
        "id": "p8em6xbgixqC"
      }
    }
  ]
}