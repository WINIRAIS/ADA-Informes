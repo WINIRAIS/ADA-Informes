{
  "nbformat": 4,
  "nbformat_minor": 0,
  "metadata": {
    "colab": {
      "name": "InsertionSort.ipynb",
      "provenance": [],
      "include_colab_link": true
    },
    "kernelspec": {
      "name": "python3",
      "display_name": "Python 3"
    },
    "language_info": {
      "name": "python"
    }
  },
  "cells": [
    {
      "cell_type": "markdown",
      "metadata": {
        "id": "view-in-github",
        "colab_type": "text"
      },
      "source": [
        "<a href=\"https://colab.research.google.com/github/WINIRAIS/ADA-Informes/blob/main/InsertionSort.ipynb\" target=\"_parent\"><img src=\"https://colab.research.google.com/assets/colab-badge.svg\" alt=\"Open In Colab\"/></a>"
      ]
    },
    {
      "cell_type": "markdown",
      "source": [
        "# 1. Problema de Ordenamiento InsertionSort\n"
      ],
      "metadata": {
        "id": "eJMMpRMUnth0"
      }
    },
    {
      "cell_type": "markdown",
      "source": [
        "**Entrada**: Una secuencia de números de tamaño N  $[a_1,a_2,...,a_n]$\\\n",
        "Esto refiere a que se tendrá una serie de números los cuales estarán en un orden disperso como se muestra en la imagen de a continuación.\\\n",
        "**Salida** : La misma secuencia ordenada de tal manera que   [$a_1' \\leq a_2' \\leq a_3' .... \\leq a_n'$] \\\n",
        "Esto indica que la misma secuencia ingresada anteriormente se mostrara ordenada de menor a mayor.\n",
        "\n",
        "![image](https://1.bp.blogspot.com/-Hw3gGrzawNQ/VXCOSFANjjI/AAAAAAAAANM/EqoTJiuQoNMgo3dA0anJ0KX0gmAyh3gewCPcBGAYYCw/s400/insertion_sort.png)"
      ],
      "metadata": {
        "id": "hDONHalTn8Xu"
      }
    },
    {
      "cell_type": "markdown",
      "source": [
        "# 2. Insertion Sort"
      ],
      "metadata": {
        "id": "gtuGJesKzZbh"
      }
    },
    {
      "cell_type": "markdown",
      "source": [
        "El siguiente código muestra la implementación del **insertion sort**\n"
      ],
      "metadata": {
        "id": "atm-llzMntpm"
      }
    },
    {
      "cell_type": "markdown",
      "source": [
        "# 2.1. Código"
      ],
      "metadata": {
        "id": "ptCMY4bhoys-"
      }
    },
    {
      "cell_type": "code",
      "source": [
        "import random \n",
        "from termcolor import colored\n",
        "\n",
        "\n",
        "def InsertionSort (Array, verbose = False):\n",
        "  T = 0 #contador de comparaciones\n",
        "\n",
        "  if verbose == True: print(\"input array:\",a)\n",
        "\n",
        "  for j in range (1, len(Array)):\n",
        "    elem_comparacion = Array[j]\n",
        "    i = j-1\n",
        "    while(i >= 0) and (Array[i] > elem_comparacion ):\n",
        "      Array[i+1] = Array[i]\n",
        "      i = i -1\n",
        "      T += 1\n",
        "      \n",
        "    Array[i+1] = elem_comparacion\n",
        "    if  i >= 0 : T+=1\n",
        "\n",
        "    if verbose == True: \n",
        "      print(\"Pasada : \", j)\n",
        "      print(\"Numeros a cambiar : \")\n",
        "      print(str(Array[:j])[1:-1],\",\",colored(f\"{str(Array[j:j+2])[1:-1]}\",\"red\"),\",\",str(Array[j+2:])[1:-1])\n",
        "      print(\"Al finalizar :\")\n",
        "      print(Array)\n",
        "\n",
        "  return Array,T\n",
        "\n",
        "A = [5,3,2,1,4,6]\n",
        "print(\"Entrada: \",A)\n",
        "A, counter = InsertionSort(A)\n",
        "print(\"Salida: \",A)\n",
        "print(\"# comparaciones: \", counter)"
      ],
      "metadata": {
        "colab": {
          "base_uri": "https://localhost:8080/"
        },
        "id": "yV9rUd7uo50M",
        "outputId": "4d548660-8ecd-47e1-df54-01a0cd5f7208"
      },
      "execution_count": null,
      "outputs": [
        {
          "output_type": "stream",
          "name": "stdout",
          "text": [
            "Entrada:  [5, 3, 2, 1, 4, 6]\n",
            "Salida:  [1, 2, 3, 4, 5, 6]\n",
            "# comparaciones:  9\n"
          ]
        }
      ]
    },
    {
      "cell_type": "markdown",
      "source": [
        "# 2.2. Descripción del algoritmo"
      ],
      "metadata": {
        "id": "MIBIW2xvziFK"
      }
    },
    {
      "cell_type": "markdown",
      "source": [
        "El algoritmo recibe una lista o un arreglo A con una cantidad de N elementos desordenados (ordenados en el mejor caso) que deseamos ordenar, donde estos mismos elemento que en un principio estaban desordenados quedaran ordenados del modo que se estime conveniente , para nuestro caso será de menor a mayor.\n",
        "\n",
        "\n",
        "1.   En cada iteración $j$ el `Array[j]` quedara almacenado en la variable $key$ para posterior comparación `Array[i] > key`. Si se cumple esta condición además de que el \"i $\\geq$ 0 \" entonces correrá el elemento menor a la izquierda siempre y cuando se cumpla condicion anteriormente dicha\n",
        "2.   Luego (fuera del while) el valor $key$ queda almacenado en `Array[i+1]` que sería donde se movió originalmente el elemento\n",
        "3.   Verbose servira para mostrar lo que ocurre paso a paso en función de $j$"
      ],
      "metadata": {
        "id": "N6ly5zvhzuRv"
      }
    },
    {
      "cell_type": "markdown",
      "source": [
        "Notese de que es necesario recorrer todo el arreglo si es que el numero menor fuese el ultimo"
      ],
      "metadata": {
        "id": "-dL23xepH8tg"
      }
    },
    {
      "cell_type": "markdown",
      "source": [
        "# 2.3. Ejemplo\n",
        "Consideremos el arreglo: \\\n",
        "$a= [5,8,7,1,3]$\\\n",
        "En la primera pasada no intercambia nada porque el primer dato con el segundo no cumple la condición `Array[i] > key` ya que 5 > 8 es falso.\n",
        "En la segunda pasada se cumple la condición por que 8 > 7 es verdadero donde hace el cambio y se actualiza la posición actualizando a su vez la key quedando: \\\n",
        "$a= [5, 7, 8, 1, 3]$\\\n",
        "key = 1\\\n",
        "Se sigue la secuencia con la comparación del 8 > 1, luego 7 > 1, 5 > 1 donde la variable i = -1 lo que provoca la salida del while así reconociendo momentáneamente el valor menor, quedando: \\\n",
        "$a= [1, 5, 7, 8, 3]$\\\n",
        "key = 3\\\n",
        "Se sigue la secuencia con la comparación del 8 > 3, luego 7 > 3, 5 > 3 donde quedaría 1 > 3 (falso) lo que provoca la salida del while así actualizando los datos nuevamente, quedando: \\\n",
        "$a= [1, 3, 5, 7, 8]$\\\n",
        "quedando así ordenado, cabe destacar que cada vez que se iban comparando los datos, los mayores se iban corriendo a la derecha, así pudiendo ordenar todo de manera correcta.\n"
      ],
      "metadata": {
        "id": "nAo7si30IGtD"
      }
    },
    {
      "cell_type": "markdown",
      "source": [
        "# 2.4. Ejecución del algoritmo paso a paso (verbose=True)"
      ],
      "metadata": {
        "id": "vb2aUsYlQN0o"
      }
    },
    {
      "cell_type": "markdown",
      "source": [
        "Con la opción verbose `True` se podra ver lo que ocurre en cada paso por $j$"
      ],
      "metadata": {
        "id": "o3OzAeC1VlU4"
      }
    },
    {
      "cell_type": "code",
      "source": [
        "import random\n",
        "a = random.sample(range(1, 100), 6)\n",
        "a,c= InsertionSort(a,verbose=True)"
      ],
      "metadata": {
        "colab": {
          "base_uri": "https://localhost:8080/"
        },
        "id": "WAlLUCGoW9zP",
        "outputId": "654441a4-1e75-4b8a-9c7f-10d9d2cd28e1"
      },
      "execution_count": null,
      "outputs": [
        {
          "output_type": "stream",
          "name": "stdout",
          "text": [
            "input array: [40, 46, 42, 14, 25, 31]\n",
            "Pasada :  1\n",
            "Numeros a cambiar : \n",
            "40 , \u001b[31m46, 42\u001b[0m , 14, 25, 31\n",
            "Al finalizar :\n",
            "[40, 46, 42, 14, 25, 31]\n",
            "Pasada :  2\n",
            "Numeros a cambiar : \n",
            "40, 42 , \u001b[31m46, 14\u001b[0m , 25, 31\n",
            "Al finalizar :\n",
            "[40, 42, 46, 14, 25, 31]\n",
            "Pasada :  3\n",
            "Numeros a cambiar : \n",
            "14, 40, 42 , \u001b[31m46, 25\u001b[0m , 31\n",
            "Al finalizar :\n",
            "[14, 40, 42, 46, 25, 31]\n",
            "Pasada :  4\n",
            "Numeros a cambiar : \n",
            "14, 25, 40, 42 , \u001b[31m46, 31\u001b[0m , \n",
            "Al finalizar :\n",
            "[14, 25, 40, 42, 46, 31]\n",
            "Pasada :  5\n",
            "Numeros a cambiar : \n",
            "14, 25, 31, 40, 42 , \u001b[31m46\u001b[0m , \n",
            "Al finalizar :\n",
            "[14, 25, 31, 40, 42, 46]\n"
          ]
        }
      ]
    },
    {
      "cell_type": "markdown",
      "source": [
        "3. **Tiempo de ejecución** \\\n",
        "**Teorema (Tiempo de ejecución).**\n",
        "1. El algoritmo **Insertion Sort** tiene un `tiempo de ejecución` de **o($n^2$)** en el peor caso.\n",
        "2. El algoritmo **Insertion Sort** tiene un `tiempo de ejecución` de **o($n$)** en el mejor caso.\n",
        "3. El algoritmo **Insertion Sort** tiene un `tiempo de ejecución` de **o($n^2$)** en el caso promedio para un arreglo aleatorio.\n"
      ],
      "metadata": {
        "id": "FcC86rWOXoVi"
      }
    },
    {
      "cell_type": "markdown",
      "source": [
        "# Prueba del teorema \n",
        "\n",
        "Observando el código, podemos apreciar que el **Mejor caso** ocurre cuando el **menor elemento** se encuentra al **principio** del arreglo, y éste mismo ya se encuentra ordenado. Como se puede observar en cada pasada de elemento, al momento de la comparación este no entrara al bucle $while$, por ende no tendría que iterar **$n$** veces el arreglo nuevamente para acomodar sus datos de menor a mayor, lo que provoca un resultado de **$O(n)$** y no **$O(n_2)$**."
      ],
      "metadata": {
        "id": "XZJMO5-4ZupS"
      }
    },
    {
      "cell_type": "code",
      "source": [
        "a =[1,2,3,4];\n",
        "print(\"Entrada no ordenada:\",a)\n",
        "a,counter=InsertionSort(a,True)\n",
        "print(\"Salida ordenada:\",a)\n",
        "print(\"Total de comparaciones realizadas:\",counter)"
      ],
      "metadata": {
        "colab": {
          "base_uri": "https://localhost:8080/"
        },
        "id": "UaUaMw2MyROR",
        "outputId": "e71f7f9b-9056-4a28-b626-a71875cffd40"
      },
      "execution_count": null,
      "outputs": [
        {
          "output_type": "stream",
          "name": "stdout",
          "text": [
            "Entrada no ordenada: [1, 2, 3, 4]\n",
            "input array: [1, 2, 3, 4]\n",
            "Pasada :  1\n",
            "Numeros a cambiar : \n",
            "1 , \u001b[31m2, 3\u001b[0m , 4\n",
            "Al finalizar :\n",
            "[1, 2, 3, 4]\n",
            "Pasada :  2\n",
            "Numeros a cambiar : \n",
            "1, 2 , \u001b[31m3, 4\u001b[0m , \n",
            "Al finalizar :\n",
            "[1, 2, 3, 4]\n",
            "Pasada :  3\n",
            "Numeros a cambiar : \n",
            "1, 2, 3 , \u001b[31m4\u001b[0m , \n",
            "Al finalizar :\n",
            "[1, 2, 3, 4]\n",
            "Salida ordenada: [1, 2, 3, 4]\n",
            "Total de comparaciones realizadas: 3\n"
          ]
        }
      ]
    },
    {
      "cell_type": "markdown",
      "source": [
        "Como nos podemos fijar el total de comparaciones en el mejor caso son 3 pero estas mismas no entran en el bucle while ya que ninguna cumple con la condición para entrar por ende solo recorre el ciclo for , dejando así un complejidad de **$o(n)$** siendo n el largo de los elementos que no conocemos."
      ],
      "metadata": {
        "id": "IGfltEWe0DFQ"
      }
    },
    {
      "cell_type": "markdown",
      "source": [
        "# 4. Correctitud\n",
        "\n",
        "### **Teorema (Correctitud).**\n",
        "\n",
        "*El algoritmo **InsertionSort** genera un arreglo: $[a_1',a_2',...,a_n']$, con los mismos elementos del arreglo de entrada ordenados de menor a mayor, es decir, * $a_1'\\leq a_2' \\leq... \\leq a_n'$.\n",
        "\n",
        "## Prueba del Teorema\n",
        "\n",
        "Previamente observamos que en cada iteración de InsertionSort se van comparando elementos de izquierda a derecha así mismo acomodando los elementos.\n",
        "\n",
        "Por lo que probaremos la siguiente **propiedad invariante de bucle** para el `InsertionSort`:\n",
        "\n",
        "**Inicialización**\n",
        "\n",
        "Al comienzo de la primera iteración (j=1), los primeros elementos cumplen con la propiedad.\n",
        "\n",
        "**Mantención**\n",
        "\n",
        "Aplicando inducción, asumimos que al comienzo de cada iteración $j$ se cumple la propiedad. Es decir, los primeros elementos de izquierda a derecha van quedando ordenados de menor a mayor.\n",
        "\n",
        "![image](https://miro.medium.com/max/1050/0*1zi2XtjiLXa3LYZh.PNG)\n",
        "\n",
        "Como se observa a medida que **$j$** va aumentando los elementos de izquierda a derecha quedan ordenados.\n",
        "\n",
        "**Correctitud**\n",
        "\n",
        "Finalmente, como la propiedad de bucle invariante es verdadera al incio del bucle y se mantiene en cada iteración, podemos decir que al **finalizar la n-ésima iteración del algoritmo**, se que genera un arreglo $[a_1',a_2',...,a_n']$, con los mismos elementos del arreglo de entrada ordenados de menor a mayor. $\\Box$"
      ],
      "metadata": {
        "id": "Cr0EyQt62wFD"
      }
    },
    {
      "cell_type": "markdown",
      "source": [
        "# 5. Experimentos\n"
      ],
      "metadata": {
        "id": "xH5oCWC1aWXS"
      }
    },
    {
      "cell_type": "markdown",
      "source": [
        "# 5.1. Número de comparaciones\n",
        "\n",
        "A continuación se muestra gráficamente una comparación entre:\n",
        "\n",
        "* cantidad de comparaciones del peor caso calculadas matemáticamente,\n",
        "* cantidad de comparaciones del mejor caso calculadas matemáticamente (n-1 comparaciones si el arreglo está ordenado)\n",
        "* cantidad de comparaciones realizadas experimentalmente para entradas aleatorias\n",
        "\n",
        "para tamaños de problemas con $n \\in [5,20]$.\n",
        "\n",
        "Los arreglos de entrada son generados aleatoriamente haciendo un sampling de un conjunto de números entre 1 y 100."
      ],
      "metadata": {
        "id": "j0lA6O74aehi"
      }
    },
    {
      "cell_type": "code",
      "source": [
        "import matplotlib.pyplot as plt\n",
        "\n",
        "x=[n for n in range(5,20)] \n",
        "y1=[n*(n-1)/2 for n in range(5,20)] # worst case\n",
        "y2=[n-1 for n in range(5,20)] # best case\n",
        "y=[]; \n",
        "\n",
        "for n in range(5,20):\n",
        "  a = random.sample(range(1, 100), n)\n",
        "  a,counter = InsertionSort(a)\n",
        "  y.append(counter)\n",
        "\n",
        "plt.plot(x,y)\n",
        "plt.plot(x,y1)\n",
        "plt.plot(x,y2)\n",
        "plt.legend([\"Insertion Sort\", \"theoretical worst case\", \"theoretical best case\"])\n",
        "\n",
        "plt.xlabel('n')\n",
        "plt.ylabel('number of operations')\n",
        "plt.show()"
      ],
      "metadata": {
        "colab": {
          "base_uri": "https://localhost:8080/",
          "height": 279
        },
        "id": "WX-HP1xuaO_B",
        "outputId": "e1675900-9373-4a70-e9b6-7789be76b8fa"
      },
      "execution_count": null,
      "outputs": [
        {
          "output_type": "display_data",
          "data": {
            "text/plain": [
              "<Figure size 432x288 with 1 Axes>"
            ],
            "image/png": "[encoded data removed]"
          },
          "metadata": {
            "needs_background": "light"
          }
        }
      ]
    },
    {
      "cell_type": "markdown",
      "source": [
        "**Análisis de resultados**\n",
        "\n",
        "En este grafico se observa que los resultados de insertion sort. Donde nos damos cuenta de que los resultados no se acercan mucho ni al peor caso ni al mejor, así dejando los resultados de tiempo de ejecución ni muy malos ni muy buenos, se podría estimar que es un caso promedio. "
      ],
      "metadata": {
        "id": "Z8oFhffLaz-5"
      }
    },
    {
      "cell_type": "markdown",
      "source": [
        "# 5.2. Tiempo de ejecución(experimental)\n",
        "En el siguiente gráfico se reporta el tiempo de ejecución del algoritmo **InsertionSort** en función del tamaño del problema para arreglos generados aleatoriamente de tamaños entre $5$ y $500$."
      ],
      "metadata": {
        "id": "BeygG4LFgQE7"
      }
    },
    {
      "cell_type": "code",
      "source": [
        "import matplotlib.pyplot as plt\n",
        "import datetime\n",
        "from timeit import repeat\n",
        "\n",
        "x=[]; y=[]\n",
        "\n",
        "for n in range(5,500):\n",
        "\n",
        "  a = random.sample(range(1, 1000), n)\n",
        "\n",
        "  #la función repeat está ejecutando 20 veces InsertionSort con el arreglo a y retorna el mejor tiepo obtenido.\n",
        "  t = repeat(setup=\"from __main__ import InsertionSort\", stmt=f\"InsertionSort({a})\", repeat=1, number=10)\n",
        "\n",
        "  x.append(n)\n",
        "  y.append(t)\n",
        "\n",
        "\n",
        "plt.plot(x,y)\n",
        "plt.legend([\"InsertionSort\"])\n",
        "\n",
        "plt.xlabel('n')\n",
        "plt.ylabel('time in ms')\n",
        "plt.show()"
      ],
      "metadata": {
        "colab": {
          "base_uri": "https://localhost:8080/",
          "height": 279
        },
        "id": "X8pvU36xh0z0",
        "outputId": "d1bf280a-3e5e-4edf-b8d0-103dbbd8eb40"
      },
      "execution_count": null,
      "outputs": [
        {
          "output_type": "display_data",
          "data": {
            "text/plain": [
              "<Figure size 432x288 with 1 Axes>"
            ],
            "image/png": "[encoded data removed]"
          },
          "metadata": {
            "needs_background": "light"
          }
        }
      ]
    },
    {
      "cell_type": "markdown",
      "source": [
        "### Análisis de resultados\n",
        "\n",
        "Este grafico se comporta de manera cuadrática igual que el anterior, a creencia personal , pienso que se da este resultado por motivos de que en el primer gráfico, el resultado promedio fue practicamente cuadrático."
      ],
      "metadata": {
        "id": "p8em6xbgixqC"
      }
    }
  ]
}