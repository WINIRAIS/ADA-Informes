{
  "nbformat": 4,
  "nbformat_minor": 0,
  "metadata": {
    "colab": {
      "provenance": [],
      "collapsed_sections": [],
      "include_colab_link": true
    },
    "kernelspec": {
      "name": "python3",
      "display_name": "Python 3"
    },
    "language_info": {
      "name": "python"
    }
  },
  "cells": [
    {
      "cell_type": "markdown",
      "metadata": {
        "id": "view-in-github",
        "colab_type": "text"
      },
      "source": [
        "<a href=\"https://colab.research.google.com/github/WINIRAIS/ADA-Informes/blob/main/RadixSort.ipynb\" target=\"_parent\"><img src=\"https://colab.research.google.com/assets/colab-badge.svg\" alt=\"Open In Colab\"/></a>"
      ]
    },
    {
      "cell_type": "markdown",
      "source": [
        "# 1. Problema de Ordenamiento RadixSort\n"
      ],
      "metadata": {
        "id": "eJMMpRMUnth0"
      }
    },
    {
      "cell_type": "markdown",
      "source": [
        "**Entrada**: Una secuencia de números de tamaño N  $[a_1,a_2,...,a_n]$\\\n",
        "Esto refiere a que se tendrá una serie de números los cuales estarán en un orden disperso como se muestra en la imagen de a continuación, ojo que si la longitud de la lista o arreglo es 0 o 1 , este ya esta ordenado.\\\n",
        "**Salida** : La misma secuencia ordenada de tal manera que   [$a_1' \\leq a_2' \\leq a_3' .... \\leq a_n'$] \\\n",
        "Esto indica que la misma secuencia ingresada anteriormente se mostrara ordenada de menor a mayor.\n",
        "\n",
        "![image](https://book.huihoo.com/data-structures-and-algorithms-with-object-oriented-design-patterns-in-c++/html/img2225.gif)"
      ],
      "metadata": {
        "id": "hDONHalTn8Xu"
      }
    },
    {
      "cell_type": "markdown",
      "source": [
        "# 2. Radix Sort"
      ],
      "metadata": {
        "id": "gtuGJesKzZbh"
      }
    },
    {
      "cell_type": "markdown",
      "source": [
        "El siguiente código muestra la implementación del **Radix sort**\n"
      ],
      "metadata": {
        "id": "atm-llzMntpm"
      }
    },
    {
      "cell_type": "markdown",
      "source": [
        "# 2.1. Código"
      ],
      "metadata": {
        "id": "ptCMY4bhoys-"
      }
    },
    {
      "cell_type": "code",
      "source": [
        "#LIBRERIAS\n",
        "from termcolor import colored as color\n",
        "import random as r\n",
        "import datetime\n",
        "from timeit import repeat\n",
        "from numpy import copy\n",
        "import matplotlib.pyplot as plt"
      ],
      "metadata": {
        "id": "n3-TXm0Y1_F_"
      },
      "execution_count": 37,
      "outputs": []
    },
    {
      "cell_type": "code",
      "source": [
        "def countingSort(array,exp):\n",
        "    global verbose\n",
        "    size = len(array)\n",
        "    output = [0] * size\n",
        "\n",
        "    # inicia el conteo del arreglo\n",
        "    count = [0] * 10\n",
        "\n",
        "    # Almacene el recuento de cada elemento en el arreglo\n",
        "    for i in range(0, size):\n",
        "        index = array[i] // exp\n",
        "        count[index % 10] += 1\n",
        "        \n",
        "    # Guarda la suma del conteo\n",
        "    for i in range(1, 10):\n",
        "        count[i] += count[i - 1]\n",
        "\n",
        "    # Encuentra el índice de cada elemento del arreglo original en el arreglo conteo\n",
        "    # colocar los elementos en el arreglo de salida\n",
        "    i = size - 1\n",
        "    if verbose: print(color(\"ArrayC\",\"blue\"),count,color(\"\\nArrayB\",\"blue\"),output)\n",
        "    while i >= 0:\n",
        "        \n",
        "        index = array[i] // exp\n",
        "        output[count[index % 10] - 1] = array[i]\n",
        "        count[index % 10] -= 1\n",
        "        i -= 1\n",
        "        if verbose: print(color(\"\\nArrayC\",\"blue\"),count,color(\"\\nArrayB\",\"blue\"),output,color(f\"\\nInsertado:\",\"cyan\"),array[i])\n",
        "\n",
        "    #Copie los elementos ordenados \n",
        "    for i in range(0, size):\n",
        "        array[i] = output[i]"
      ],
      "metadata": {
        "id": "yV9rUd7uo50M"
      },
      "execution_count": 30,
      "outputs": []
    },
    {
      "cell_type": "code",
      "source": [
        "def radixSort(arr):\n",
        "    global verbose\n",
        "    max1 = max(arr)\n",
        "    exp = 1\n",
        "    cifra = 1\n",
        "    while max1 / exp >= 1:\n",
        "        if verbose: print(color(f\"\\nCifras N°{cifra}\",\"green\"))\n",
        "        countingSort(arr, exp)\n",
        "        cifra += 1\n",
        "        exp *= 10\n",
        "        if verbose: print(color(f\"\\nResultado:\",\"magenta\"),arr)"
      ],
      "metadata": {
        "id": "lIFnv2CMdxLf"
      },
      "execution_count": 31,
      "outputs": []
    },
    {
      "cell_type": "code",
      "source": [
        "def bucketSort(A):\n",
        "    B = []\n",
        "    m = max(A)\n",
        "    n = len(A)\n",
        "\n",
        "    for i in range(n): B.append([])\n",
        "    for i in A: B[int(i*(n-1)/m)].append(i)\n",
        "    for i in range(n): B[i] = insertionSort(B[i])\n",
        "\n",
        "    k = 0\n",
        "    for i in B:\n",
        "        for j in i:\n",
        "            A[k] = j\n",
        "            k += 1\n",
        "\n",
        "def insertionSort(b):\n",
        "    for i in range(1, len(b)):\n",
        "        up = b[i]\n",
        "        j = i - 1\n",
        "        while j >= 0 and b[j] > up: \n",
        "            b[j + 1] = b[j]\n",
        "            j -= 1\n",
        "        b[j + 1] = up\n",
        "    return b"
      ],
      "metadata": {
        "id": "2KDMLRGkElu1"
      },
      "execution_count": 32,
      "outputs": []
    },
    {
      "cell_type": "code",
      "source": [
        "#Main \n",
        "var = r.randint(1,10)\n",
        "data = r.sample(range(0,100),var)\n",
        "verbose = False\n",
        "print(color(\"Entrada: \",\"red\"),data)\n",
        "radixSort(data)\n",
        "print(color(\"Salida : \",\"blue\"), data)"
      ],
      "metadata": {
        "id": "ECeY5ZMsd1Pf",
        "colab": {
          "base_uri": "https://localhost:8080/"
        },
        "outputId": "0c392123-d176-4d7d-f030-b6bbc3ed6a7c"
      },
      "execution_count": 39,
      "outputs": [
        {
          "output_type": "stream",
          "name": "stdout",
          "text": [
            "\u001b[31mEntrada: \u001b[0m [9, 77, 26, 24, 88, 21, 63, 73]\n",
            "\u001b[34mSalida : \u001b[0m [9, 21, 24, 26, 63, 73, 77, 88]\n"
          ]
        }
      ]
    },
    {
      "cell_type": "markdown",
      "source": [
        "# 2.2. Descripción del algoritmo"
      ],
      "metadata": {
        "id": "MIBIW2xvziFK"
      }
    },
    {
      "cell_type": "markdown",
      "source": [
        "La idea general del algoritmo Radix sort es tener en cuenta que las claves permanecen formadas por dígitos. La versión estable de Radix sort requiere un arreglo auxiliar del mismo tamaño del arreglo a ordenar. \n",
        "\n",
        "En cada iteración, Radix sort puede usar cualquier procedimiento de ordenación para ordenar un dígito de las claves. \n",
        "\n",
        "El algoritmo de conteo realiza 4 pasos para la ordenación de cada dígito.\n",
        "\n",
        "\n",
        "1. **$Inicialización$** **$de$** **$Contadores$** : Inicializa a cero los contadores que el algoritmo va a utilizar.\n",
        "\n",
        "2.  **$Conteo$** : El paso de conteo calcula un histograma de los valores del dígito para las claves almacenadas en el arreglo.\n",
        "\n",
        "3. **$Suma$** **$Parcial$** : se calcula la suma parcial de los contadores.\n",
        "\n",
        "4. **$Movimiento$** : Se leen cada una de las claves del arreglo para poder sobreescribirlas en el otro array auxiliar.\n",
        "\n",
        "![image](https://www.researchgate.net/publication/291086231/figure/fig1/AS:614214452404240@1523451545568/Simplistic-illustration-of-the-steps-performed-in-a-radix-sort-In-this-example-the.png)"
      ],
      "metadata": {
        "id": "N6ly5zvhzuRv"
      }
    },
    {
      "cell_type": "markdown",
      "source": [
        "#2.3.  Ejemplo"
      ],
      "metadata": {
        "id": "sPr4jhFw7Gj0"
      }
    },
    {
      "cell_type": "markdown",
      "source": [
        "\n",
        "A[1,5,3,2,0,0,1,4,2,2] - C[2,2,3,1,1,1] - B[0,0,0,0,0,0,0,0,0,0]\\\n",
        "A[1,5,3,2,0,0,1,4,2,**2**] - C[2,4,**7**,8,9,10] - B[0,0,0,0,0,0,2,0,0,0]\\\n",
        "A[1,5,3,2,0,0,1,4,**2**,2] - C[2,4,**6**,8,9,10] - B[0,0,0,0,0,2,2,0,0,0]\\\n",
        "A[1,5,3,2,0,0,1,**4**,2,2] - C[2,4,5,8,**9**,10] - B[0,0,0,0,0,2,2,0,4,0]\\\n",
        "A[1,5,3,2,0,0,**1**,4,2,2] - C[2,**4**,5,8,8,10] - B[0,0,0,1,0,2,2,0,4,0]\\\n",
        "A[1,5,3,2,0,**0**,1,4,2,2] - C[**2**,3,5,8,8,10] - B[0,0,0,1,0,2,2,0,4,0]\\\n",
        "A[1,5,3,2,**0**,0,1,4,2,2] - C[**1**,3,5,8,8,10] - B[0,0,0,1,0,2,2,0,4,0]\\\n",
        "A[1,5,3,**2**,0,0,1,4,2,2] - C[0,3,**5**,8,8,10] - B[0,0,0,1,2,2,2,0,4,0]\\\n",
        "A[1,5,**3**,2,0,0,1,4,2,2] - C[0,3,4,**8**,8,10] - B[0,0,0,1,2,2,2,3,4,0]\\\n",
        "A[1,**5**,3,2,0,0,1,4,2,2] - C[0,3,4,7,8,**10**] - B[0,0,0,1,2,2,2,3,4,5]\\\n",
        "A[**1**,5,3,2,0,0,1,4,2,2] - C[0,**3**,4,7,8,9] - B[0,0,1,1,2,2,2,3,4,5]\\\n",
        "Resultado: [0,0,1,1,2,2,2,3,4,5]\n"
      ],
      "metadata": {
        "id": "RWkNIFBk7vwF"
      }
    },
    {
      "cell_type": "markdown",
      "source": [
        "# 2.4. Ejecución del algoritmo paso a paso (verbose=True)"
      ],
      "metadata": {
        "id": "vb2aUsYlQN0o"
      }
    },
    {
      "cell_type": "markdown",
      "source": [
        "Con la opción verbose `True` se podra ver lo que ocurre paso a paso"
      ],
      "metadata": {
        "id": "o3OzAeC1VlU4"
      }
    },
    {
      "cell_type": "code",
      "source": [
        "#Main\n",
        "var = r.randint(1,10)\n",
        "data = r.sample(range(0,100),var)\n",
        "verbose = True\n",
        "print(color(\"Entrada: \",\"red\"),data)\n",
        "radixSort(data)\n",
        "print(color(\"Salida : \",\"blue\"), data)"
      ],
      "metadata": {
        "id": "q47OWddY7unS",
        "colab": {
          "base_uri": "https://localhost:8080/"
        },
        "outputId": "3a088564-6cca-46c3-9d13-096691c14cb2"
      },
      "execution_count": 36,
      "outputs": [
        {
          "output_type": "stream",
          "name": "stdout",
          "text": [
            "\u001b[31mEntrada: \u001b[0m [10, 44, 41, 40, 83, 45, 88, 65]\n",
            "\u001b[32m\n",
            "Cifras N°1\u001b[0m\n",
            "\u001b[34mArrayC\u001b[0m [2, 3, 3, 4, 5, 7, 7, 7, 8, 8] \u001b[34m\n",
            "ArrayB\u001b[0m [0, 0, 0, 0, 0, 0, 0, 0]\n",
            "\u001b[34m\n",
            "ArrayC\u001b[0m [2, 3, 3, 4, 5, 6, 7, 7, 8, 8] \u001b[34m\n",
            "ArrayB\u001b[0m [0, 0, 0, 0, 0, 0, 65, 0] \u001b[36m\n",
            "Insertado:\u001b[0m 88\n",
            "\u001b[34m\n",
            "ArrayC\u001b[0m [2, 3, 3, 4, 5, 6, 7, 7, 7, 8] \u001b[34m\n",
            "ArrayB\u001b[0m [0, 0, 0, 0, 0, 0, 65, 88] \u001b[36m\n",
            "Insertado:\u001b[0m 45\n",
            "\u001b[34m\n",
            "ArrayC\u001b[0m [2, 3, 3, 4, 5, 5, 7, 7, 7, 8] \u001b[34m\n",
            "ArrayB\u001b[0m [0, 0, 0, 0, 0, 45, 65, 88] \u001b[36m\n",
            "Insertado:\u001b[0m 83\n",
            "\u001b[34m\n",
            "ArrayC\u001b[0m [2, 3, 3, 3, 5, 5, 7, 7, 7, 8] \u001b[34m\n",
            "ArrayB\u001b[0m [0, 0, 0, 83, 0, 45, 65, 88] \u001b[36m\n",
            "Insertado:\u001b[0m 40\n",
            "\u001b[34m\n",
            "ArrayC\u001b[0m [1, 3, 3, 3, 5, 5, 7, 7, 7, 8] \u001b[34m\n",
            "ArrayB\u001b[0m [0, 40, 0, 83, 0, 45, 65, 88] \u001b[36m\n",
            "Insertado:\u001b[0m 41\n",
            "\u001b[34m\n",
            "ArrayC\u001b[0m [1, 2, 3, 3, 5, 5, 7, 7, 7, 8] \u001b[34m\n",
            "ArrayB\u001b[0m [0, 40, 41, 83, 0, 45, 65, 88] \u001b[36m\n",
            "Insertado:\u001b[0m 44\n",
            "\u001b[34m\n",
            "ArrayC\u001b[0m [1, 2, 3, 3, 4, 5, 7, 7, 7, 8] \u001b[34m\n",
            "ArrayB\u001b[0m [0, 40, 41, 83, 44, 45, 65, 88] \u001b[36m\n",
            "Insertado:\u001b[0m 10\n",
            "\u001b[34m\n",
            "ArrayC\u001b[0m [0, 2, 3, 3, 4, 5, 7, 7, 7, 8] \u001b[34m\n",
            "ArrayB\u001b[0m [10, 40, 41, 83, 44, 45, 65, 88] \u001b[36m\n",
            "Insertado:\u001b[0m 65\n",
            "\u001b[35m\n",
            "Resultado:\u001b[0m [10, 40, 41, 83, 44, 45, 65, 88]\n",
            "\u001b[32m\n",
            "Cifras N°2\u001b[0m\n",
            "\u001b[34mArrayC\u001b[0m [0, 1, 1, 1, 5, 5, 6, 6, 8, 8] \u001b[34m\n",
            "ArrayB\u001b[0m [0, 0, 0, 0, 0, 0, 0, 0]\n",
            "\u001b[34m\n",
            "ArrayC\u001b[0m [0, 1, 1, 1, 5, 5, 6, 6, 7, 8] \u001b[34m\n",
            "ArrayB\u001b[0m [0, 0, 0, 0, 0, 0, 0, 88] \u001b[36m\n",
            "Insertado:\u001b[0m 65\n",
            "\u001b[34m\n",
            "ArrayC\u001b[0m [0, 1, 1, 1, 5, 5, 5, 6, 7, 8] \u001b[34m\n",
            "ArrayB\u001b[0m [0, 0, 0, 0, 0, 65, 0, 88] \u001b[36m\n",
            "Insertado:\u001b[0m 45\n",
            "\u001b[34m\n",
            "ArrayC\u001b[0m [0, 1, 1, 1, 4, 5, 5, 6, 7, 8] \u001b[34m\n",
            "ArrayB\u001b[0m [0, 0, 0, 0, 45, 65, 0, 88] \u001b[36m\n",
            "Insertado:\u001b[0m 44\n",
            "\u001b[34m\n",
            "ArrayC\u001b[0m [0, 1, 1, 1, 3, 5, 5, 6, 7, 8] \u001b[34m\n",
            "ArrayB\u001b[0m [0, 0, 0, 44, 45, 65, 0, 88] \u001b[36m\n",
            "Insertado:\u001b[0m 83\n",
            "\u001b[34m\n",
            "ArrayC\u001b[0m [0, 1, 1, 1, 3, 5, 5, 6, 6, 8] \u001b[34m\n",
            "ArrayB\u001b[0m [0, 0, 0, 44, 45, 65, 83, 88] \u001b[36m\n",
            "Insertado:\u001b[0m 41\n",
            "\u001b[34m\n",
            "ArrayC\u001b[0m [0, 1, 1, 1, 2, 5, 5, 6, 6, 8] \u001b[34m\n",
            "ArrayB\u001b[0m [0, 0, 41, 44, 45, 65, 83, 88] \u001b[36m\n",
            "Insertado:\u001b[0m 40\n",
            "\u001b[34m\n",
            "ArrayC\u001b[0m [0, 1, 1, 1, 1, 5, 5, 6, 6, 8] \u001b[34m\n",
            "ArrayB\u001b[0m [0, 40, 41, 44, 45, 65, 83, 88] \u001b[36m\n",
            "Insertado:\u001b[0m 10\n",
            "\u001b[34m\n",
            "ArrayC\u001b[0m [0, 0, 1, 1, 1, 5, 5, 6, 6, 8] \u001b[34m\n",
            "ArrayB\u001b[0m [10, 40, 41, 44, 45, 65, 83, 88] \u001b[36m\n",
            "Insertado:\u001b[0m 88\n",
            "\u001b[35m\n",
            "Resultado:\u001b[0m [10, 40, 41, 44, 45, 65, 83, 88]\n",
            "\u001b[34mSalida : \u001b[0m [10, 40, 41, 44, 45, 65, 83, 88]\n"
          ]
        }
      ]
    },
    {
      "cell_type": "markdown",
      "source": [
        "# 3. Correctitud\n",
        "\n",
        "#Prueba de Correctitud\n",
        "En esta sección probaremos si el algoritmo **CountingSort** funciona correctamente, para esto utilizaremos inducción matemática.\n",
        "\n",
        "Para llevar a cabo este método y saber si el algoritmo es correcto en arreglos de largo $n$, se necesita conocer que ocurre en dos casos específicos:\n",
        "- **Caso Base:** Se debe conocer que ocurre al usar el algoritmo CountingSort en un arreglo de un solo elemento.\n",
        "- **Caso General:** Para este caso se debe estudiar que ocurre al utilizar este algoritmo en arreglos de largo $m$, con $m < n$.\n",
        "\n",
        "###**Caso Base**\n",
        "En arreglos de largo $1$, CountingSort lo único que hará es devolver el mismo arreglo, ya que desde el inicio está ordenado.\n",
        "\n",
        "###**Caso General (invariante)**\n",
        "El único valor que no cambia dentro del desarrollo del algoritmo es el valor de K, puesto que es \n",
        "una constante que nos dará el número de posiciones que tendrá el arreglo C y como se mantiene el valor , nuestro caso general no cambiara tampoco siguiendo el mismo patrón dejando asi ordenado cada bucket , con arreglos de largo $m$ , $m < n$. \n"
      ],
      "metadata": {
        "id": "Cr0EyQt62wFD"
      }
    },
    {
      "cell_type": "markdown",
      "source": [
        "#4. Tiempo de ejecución\n",
        "###**CountingSort**\n",
        "Para empezar, estudiaremos el tiempo de ejecución de CountingSort. Este algoritmo se ejecuta ordenando arreglos de largo $n$, donde $k$ es el rango (diferencia entre el mínimo y máximo) de los números que se ordenarán.  \n",
        "Sumando todos los procesos de los cicols iterativos, el algoritmo resulta en:\n",
        "- $T(n) = k + n + (k-1) + n$ \n",
        "- $T(n) = 2n + 2k -1$\n",
        "\n",
        "Como siempre hace lo mismo sin importar el estado del arreglo de entrada, no hay ni mejor caso, en esta situación, se eliminan las constantes, por lo que el tiempo de ejecución de CountingSort resulta en:\n",
        "- $Θ(n + k)$\n",
        "\n",
        "###**RadixSort**\n",
        "RadixSort lo que hace es llamar repetidas veces a CountingSort, por lo que la complejidad temporal de este algoritmo es:\n",
        "- $Θ(a(n+k))$\n",
        "\n",
        "En este caso $a$ es la cantidad de dígitos que contiene el mayor número dentro del arreglo de entrada.  \n",
        "Pero podemos darnos cuenta que RadixSort sólo ordena números por sus dígitos, es decir, que $k = 10$, pasaría a ser constante, es decir que el tiempo de ejecución final del algoritmo RadixSort es:\n",
        "- $Θ(n \\cdot k)$\n",
        "\n",
        "Con $n$ la cantidad de elementos del arreglo, y $k$ con la cantidad de dígitos que contiene el mayor número dentro de este arreglo."
      ],
      "metadata": {
        "id": "Zn_Ng0kN7W4B"
      }
    },
    {
      "cell_type": "markdown",
      "source": [
        "# 5. Experimentos\n"
      ],
      "metadata": {
        "id": "xH5oCWC1aWXS"
      }
    },
    {
      "cell_type": "markdown",
      "source": [
        "# 5.1. Tiempo de ejecución(experimental)\n",
        "En el siguiente gráfico se reporta el tiempo de ejecución del algoritmo **RadixSort** vs **BucketSort** en función del tamaño del problema para arreglos generados aleatoriamente de tamaños entre $5$ y $500$."
      ],
      "metadata": {
        "id": "BeygG4LFgQE7"
      }
    },
    {
      "cell_type": "code",
      "source": [
        "x=[]; y=[]; y2=[]\n",
        "\n",
        "for n in range(5,500):\n",
        "\n",
        "  a = r.sample(range(0, 1000), n)\n",
        "  b = copy(a)\n",
        "\n",
        "  t = repeat(setup=\"from __main__ import radixSort\", stmt=f\"radixSort({a})\", repeat=1, number=10)\n",
        "  t2 = repeat(setup=\"from __main__ import bucketSort\", stmt=f\"bucketSort({a})\", repeat = 1, number = 10)\n",
        "\n",
        "  x.append(n)\n",
        "  y.append(t)\n",
        "  y2.append(t2)\n",
        "\n",
        "\n",
        "plt.plot(x,y)\n",
        "plt.plot(x, y2)\n",
        "plt.legend([\"RadixSort\", \"BucketSort\"])\n",
        "\n",
        "plt.xlabel('n')\n",
        "plt.ylabel('time in ms')\n",
        "plt.show()"
      ],
      "metadata": {
        "id": "o2X8knUT7sKA",
        "colab": {
          "base_uri": "https://localhost:8080/",
          "height": 282
        },
        "outputId": "e2382c36-48d9-4989-db95-3eacd643aa9b"
      },
      "execution_count": 41,
      "outputs": [
        {
          "output_type": "display_data",
          "data": {
            "text/plain": [
              "<Figure size 432x288 with 1 Axes>"
            ],
            "image/png": "[encoded data removed]"
          },
          "metadata": {
            "needs_background": "light"
          }
        }
      ]
    },
    {
      "cell_type": "markdown",
      "source": [
        "### Análisis de resultados\n",
        "Como se puede observar el tiempo de ejecución de bucket sort es un poco mejor que el de radixSort , esto se debe a que el tiempo de RadixSort es de O($n+k$) mientras que el de bucketSort es de O($n$)"
      ],
      "metadata": {
        "id": "p8em6xbgixqC"
      }
    },
    {
      "cell_type": "code",
      "source": [
        "def InsertionSortF (Array):\n",
        "\n",
        "  for j in range (1, len(Array)):\n",
        "    elem_comparacion = Array[j]\n",
        "    i = j-1\n",
        "    while(i >= 0) and (Array[i] > elem_comparacion ):\n",
        "      Array[i+1] = Array[i]\n",
        "      i = i -1\n",
        "      \n",
        "    Array[i+1] = elem_comparacion\n",
        "\n",
        "  return Array\n",
        "\n",
        "A = [5,3,2,1,4,6]\n",
        "print(\"Entrada: \",A)\n",
        "A = InsertionSortF(A)\n",
        "print(\"Salida: \",A)"
      ],
      "metadata": {
        "colab": {
          "base_uri": "https://localhost:8080/"
        },
        "id": "aDXXHZc_VbcF",
        "outputId": "0714f4fc-a691-445b-af3d-971518f70fdd"
      },
      "execution_count": 44,
      "outputs": [
        {
          "output_type": "stream",
          "name": "stdout",
          "text": [
            "Entrada:  [5, 3, 2, 1, 4, 6]\n",
            "Salida:  [1, 2, 3, 4, 5, 6]\n"
          ]
        }
      ]
    },
    {
      "cell_type": "code",
      "source": [
        "def MergeSort(A):\n",
        "   if len(A) == 1 or len(A) == 0: \n",
        "     return A  #si el largo del array es 0 o 1 indica que ya esta ordenado\n",
        "   else:\n",
        "     if len(A) > 1:\n",
        "      mitad = ((len(A))//2) #elemento medio del arreglo\n",
        "      lado_izq = A[:mitad] #ordena la parte izquierda del arreglo que va del inicio hasta la mitad\n",
        "      lado_der = A[mitad:] #ordena la parte derecha del arreglo que va de la mitad hasta el final\n",
        "\n",
        "      #Se llama Recursivamente\n",
        "      MergeSort(lado_izq)\n",
        "      MergeSort(lado_der) \n",
        "      Merge(lado_izq,lado_der,A)\n",
        "    \n",
        "#Función Merge reordena todos los elementos en un arreglo\n",
        "\n",
        "def Merge(izq,der,A):\n",
        "  i=0 #indices\n",
        "  j=0 #indices\n",
        "  k=0 #indices \n",
        "  array = A\n",
        "\n",
        "  while(i < len(izq) and j < len(der)):\n",
        "    if izq[i] < der[j]:\n",
        "      array[k] = izq[i]\n",
        "      i += 1\n",
        "    else:\n",
        "      array[k] = der[j]\n",
        "      j += 1\n",
        "    k += 1\n",
        "  \n",
        "  while i < len(izq):\n",
        "            array[k] = izq[i]\n",
        "            i += 1\n",
        "            k += 1\n",
        "  while j < len(der):\n",
        "            array[k] = der[j]\n",
        "            j += 1\n",
        "            k += 1\n",
        " \n",
        "  return array\n",
        "\n",
        "\n",
        "A = [39,27,43,3,9,82,10]\n",
        "print(color(\"Entrada: \",\"red\"),A)\n",
        "MergeSort(A)\n",
        "print(color(\"Salida: \", \"blue\"),A)\n"
      ],
      "metadata": {
        "colab": {
          "base_uri": "https://localhost:8080/"
        },
        "id": "xfyUOK_AWHmb",
        "outputId": "2de75287-d9fb-4466-899e-7e311ecb86cc"
      },
      "execution_count": 50,
      "outputs": [
        {
          "output_type": "stream",
          "name": "stdout",
          "text": [
            "\u001b[31mEntrada: \u001b[0m [39, 27, 43, 3, 9, 82, 10]\n",
            "\u001b[34mSalida: \u001b[0m [3, 9, 10, 27, 39, 43, 82]\n"
          ]
        }
      ]
    },
    {
      "cell_type": "code",
      "source": [
        "def quicksortF(array, first, last): \n",
        "    if first < last:\n",
        "\n",
        "      pivote = particionF(array, first, last)\n",
        "      quicksortF(array, first,pivote)\n",
        "      quicksortF(array, pivote + 1, last)\n",
        "      \n",
        "def particionF(arreglo, left, right):\n",
        "    pivote = arreglo[left]\n",
        "\n",
        "    while True:#iteracion general para comparar los elementos\n",
        "        while left <= right and arreglo[left] < pivote:\n",
        "            left += 1\n",
        "\n",
        "        while left <= right and arreglo[right] > pivote:\n",
        "            right -= 1\n",
        "\n",
        "        if left >= right:\n",
        "            return right \n",
        "        else:\n",
        "            arreglo[left], arreglo[right] = arreglo[right], arreglo[left]\n",
        "            left += 1\n",
        "            right -= 1\n",
        "\n",
        "var = r.randint(1,10)\n",
        "Array = r.sample(range(0,100),var)\n",
        "print(color(\"Entrada:\",\"red\"),Array)\n",
        "quicksortF(Array,0,var-1)\n",
        "print(color(\"Salida:\", \"blue\"), Array)"
      ],
      "metadata": {
        "colab": {
          "base_uri": "https://localhost:8080/"
        },
        "id": "iqbNQfyEWnKN",
        "outputId": "47e2566a-b2a2-4243-d1b6-3b95f80d8aa2"
      },
      "execution_count": 47,
      "outputs": [
        {
          "output_type": "stream",
          "name": "stdout",
          "text": [
            "\u001b[31mEntrada:\u001b[0m [85, 13, 64, 14, 56, 73, 38, 3, 45]\n",
            "\u001b[34mSalida:\u001b[0m [3, 13, 14, 38, 45, 56, 64, 73, 85]\n"
          ]
        }
      ]
    },
    {
      "cell_type": "markdown",
      "source": [
        "# 5.1. Tiempo de ejecución varios algortimos(experimental)\n",
        "En el siguiente gráfico se reporta el tiempo de ejecución de los algoritmos **RadixSort**,**BucketSort**,**quicksortF**,**MergeSort**,**InsertionSortF** en función del tamaño del problema para arreglos generados aleatoriamente de tamaños entre $5$ y $500$."
      ],
      "metadata": {
        "id": "3DmUpaM7TocP"
      }
    },
    {
      "cell_type": "code",
      "source": [
        "x=[]; y=[]; y2=[] ; y3 = [] ; y4 = []; y5 = []\n",
        "\n",
        "for n in range(5,500):\n",
        "\n",
        "  a = r.sample(range(0, 1000), n)\n",
        "  b = copy(a)\n",
        "\n",
        "  t = repeat(setup=\"from __main__ import radixSort\", stmt=f\"radixSort({a})\", repeat=1, number=10)\n",
        "  t2 = repeat(setup=\"from __main__ import bucketSort\", stmt=f\"bucketSort({a})\", repeat = 1, number = 10)\n",
        "  t3 = repeat(setup=\"from __main__ import quicksortF\", stmt=f\"quicksortF({a},{0},{len(a)-1})\", repeat = 1, number = 10)\n",
        "  t4 = repeat(setup=\"from __main__ import MergeSort\", stmt=f\"MergeSort({a})\", repeat = 1, number = 10)\n",
        "  t5 = repeat(setup=\"from __main__ import InsertionSortF\", stmt=f\"InsertionSortF({a})\", repeat = 1, number = 10)\n",
        "\n",
        "  x.append(n)\n",
        "  y.append(t)\n",
        "  y2.append(t2)\n",
        "  y3.append(t3)\n",
        "  y4.append(t4)\n",
        "  y5.append(t5)\n",
        "\n",
        "plt.plot(x,y)\n",
        "plt.plot(x, y2)\n",
        "plt.plot(x,y3)\n",
        "plt.plot(x,y4)\n",
        "plt.plot(x, y5)\n",
        "plt.legend([\"RadixSort\", \"BucketSort\", \"quicksortF\",\"MergeSort\",\"InsertionSortF\"])\n",
        "\n",
        "plt.xlabel('n')\n",
        "plt.ylabel('time in ms')\n",
        "plt.show()"
      ],
      "metadata": {
        "colab": {
          "base_uri": "https://localhost:8080/",
          "height": 279
        },
        "id": "y8oPWHg3VZ7K",
        "outputId": "23fdfcb0-85c5-41cf-fdb1-42c0a9522c7b"
      },
      "execution_count": 52,
      "outputs": [
        {
          "output_type": "display_data",
          "data": {
            "text/plain": [
              "<Figure size 432x288 with 1 Axes>"
            ],
            "image/png": "[encoded data removed]"
          },
          "metadata": {
            "needs_background": "light"
          }
        }
      ]
    },
    {
      "cell_type": "markdown",
      "source": [
        "### Análisis de resultados\n",
        "Se puede evidenciar que el algoritmo más malo en cuestión de tiempo seria el insetionSort teniendo un comportamiento cuadrático, en cambio el mejor seguirá siendo el bucketSort en comparación del resto."
      ],
      "metadata": {
        "id": "WkAIoLfUaJVM"
      }
    }
  ]
}