{
  "nbformat": 4,
  "nbformat_minor": 0,
  "metadata": {
    "colab": {
      "provenance": [],
      "include_colab_link": true
    },
    "kernelspec": {
      "name": "python3",
      "display_name": "Python 3"
    },
    "language_info": {
      "name": "python"
    }
  },
  "cells": [
    {
      "cell_type": "markdown",
      "metadata": {
        "id": "view-in-github",
        "colab_type": "text"
      },
      "source": [
        "<a href=\"https://colab.research.google.com/github/WINIRAIS/ADA-Informes/blob/main/QuickSort.ipynb\" target=\"_parent\"><img src=\"https://colab.research.google.com/assets/colab-badge.svg\" alt=\"Open In Colab\"/></a>"
      ]
    },
    {
      "cell_type": "markdown",
      "source": [
        "# 1. Problema de Ordenamiento QuickSort\n"
      ],
      "metadata": {
        "id": "eJMMpRMUnth0"
      }
    },
    {
      "cell_type": "markdown",
      "source": [
        "**Entrada**: Una secuencia de números de tamaño N  $[a_1,a_2,...,a_n]$\\\n",
        "Esto refiere a que se tendrá una serie de números los cuales estarán en un orden disperso como se muestra en la imagen de a continuación.\\\n",
        "**Salida** : La misma secuencia ordenada de tal manera que   [$a_1' \\leq a_2' \\leq a_3' .... \\leq a_n'$] \n",
        "\n",
        "Podemos encontrarnos con elementos desordenados en muchos lugares, o incluso en tareas cotidianas, es por esto que es necesario indagar y seguir informándose de nuevas maneras de solventar este problema para poder ampliar nuestro conocimiento y aumentar nuestro abanico de herramientas para afrontar nuevos obstaculos, en este caso, ordenar secuencias.\n",
        "\n",
        "![image.png](https://static.javatpoint.com/programs/images/java-program-to-sort-the-elements-of-an-array-in-ascending-order.png)"
      ],
      "metadata": {
        "id": "hDONHalTn8Xu"
      }
    },
    {
      "cell_type": "markdown",
      "source": [
        "# 2. Quick Sort"
      ],
      "metadata": {
        "id": "gtuGJesKzZbh"
      }
    },
    {
      "cell_type": "markdown",
      "source": [
        "El siguiente código muestra la implementación del **Quick sort**\n",
        "\n",
        "**qsort:** Esta función es la encargada de sub-dividir el arreglo, con el sub-arreglo izquierdo con números menores que el pivote, y el derecho con mayores al pivote (Sin incluir el pivote en ninguno de los dos). Terminará de llamarse recursivamente cuando el sub-arreglo sea de largo $1$.\n",
        "\n",
        "**partition:** La función \"_partition_\" es la responsable de ordenar y separar los elementos menores con los mayores, a la izquierda y derecha respectivamente, y dejar el pivote entre estos dos sub-arreglos, finalmente retorna el índice del pivote, para que sea posible separar mediante la llamada recursiva de _\"qsort\"_ el arreglo.\n",
        "\n",
        "Además, la función partition está programada de manera que podamos elegir la posición de nuestro pivote:\n",
        "- En el primer elemento.\n",
        "- El último elemento.\n",
        "- La mediana del sub-arreglo.\n"
      ],
      "metadata": {
        "id": "atm-llzMntpm"
      }
    },
    {
      "cell_type": "markdown",
      "source": [
        "# 2.1. Código"
      ],
      "metadata": {
        "id": "ptCMY4bhoys-"
      }
    },
    {
      "cell_type": "code",
      "source": [
        "import random\n",
        "from termcolor import colored as color"
      ],
      "metadata": {
        "id": "Dn64SRVGKwom"
      },
      "execution_count": null,
      "outputs": []
    },
    {
      "cell_type": "code",
      "source": [
        "#Pivote es el ultimo elemento\n",
        "def quicksortL(array, first, last): \n",
        "    \n",
        "    if first < last:\n",
        "      pivote = particionL(array, first, last)\n",
        "      quicksortL(array, first,pivote-1)\n",
        "      quicksortL(array, pivote+1, last)\n",
        "      \n",
        "def particionL(arreglo, left, right):\n",
        "    \"\"\"\n",
        "    funcion de mayor importancia, se detiene cuando parte del arreglo esta casi ordenado\n",
        "    esta retorna el indice donde se quedo la función, par asi ir ordenando los \n",
        "    demas elementos faltantes\n",
        "    \"\"\"\n",
        "    global verbose\n",
        "    pivote = arreglo[right]\n",
        "\n",
        "    while True:#iteracion general para comparar los elementos\n",
        "        while left <= right and arreglo[left] < pivote:\n",
        "            left += 1\n",
        "\n",
        "        while left <= right and arreglo[right] > pivote:\n",
        "            right -= 1\n",
        "\n",
        "        if left >= right:\n",
        "            return right #este es para saber donde es que nos quedamos y asi poder seguir ordenando los demas elementos\n",
        "        else:\n",
        "            arreglo[left], arreglo[right] = arreglo[right], arreglo[left]\n",
        "            \n",
        "            if(verbose):\n",
        "              print(\"\\nPivote :\",color(pivote,\"green\"))\n",
        "              print(\"\\nen la posicion:\",color(right,\"red\"),\"\\nse cambia el numero: \",color(arreglo[left],\"red\"),\n",
        "                    \"\\npor el numero\",color(arreglo[right],\"blue\"),\"\\nen la posicion :\", color(left,\"blue\"),\"\\n\")\n",
        "            left += 1\n",
        "            right -= 1\n",
        "        if(verbose):\n",
        "          print(arreglo)\n"
      ],
      "metadata": {
        "id": "wdb62adILE3h"
      },
      "execution_count": null,
      "outputs": []
    },
    {
      "cell_type": "code",
      "source": [
        "#MAIN CON PIVOTE ULTIMO ELEMENTO\n",
        "\n",
        "var = random.randint(1,10)\n",
        "Array = random.sample(range(0,100),var)\n",
        "verbose = False \n",
        "print(color(\"Entrada:\",\"red\"),Array)\n",
        "quicksortL(Array,0,var-1)\n",
        "print(color(\"Salida:\", \"blue\"), Array)"
      ],
      "metadata": {
        "colab": {
          "base_uri": "https://localhost:8080/"
        },
        "id": "YY7gzMKgLcH4",
        "outputId": "294c9664-e365-48e3-fd8a-4cf0e14d2666"
      },
      "execution_count": null,
      "outputs": [
        {
          "output_type": "stream",
          "name": "stdout",
          "text": [
            "\u001b[31mEntrada:\u001b[0m [43, 40]\n",
            "\u001b[34mSalida:\u001b[0m [40, 43]\n"
          ]
        }
      ]
    },
    {
      "cell_type": "code",
      "source": [
        "#Pivote es el Primer elemento\n",
        "def quicksortF(array, first, last): \n",
        "    if first < last:\n",
        "\n",
        "      pivote = particionF(array, first, last)\n",
        "      quicksortF(array, first,pivote)\n",
        "      quicksortF(array, pivote + 1, last)\n",
        "      \n",
        "def particionF(arreglo, left, right):\n",
        "    \"\"\"\n",
        "    funcion de mayor importancia, se detiene cuando parte del arreglo esta casi ordenado\n",
        "    esta retorna el indice donde se quedo la función, par asi ir ordenando los \n",
        "    demas elementos faltantes\n",
        "    \"\"\"\n",
        "    global verbose\n",
        "    pivote = arreglo[left]\n",
        "\n",
        "    while True:#iteracion general para comparar los elementos\n",
        "        while left <= right and arreglo[left] < pivote:\n",
        "            left += 1\n",
        "\n",
        "        while left <= right and arreglo[right] > pivote:\n",
        "            right -= 1\n",
        "\n",
        "        if left >= right:\n",
        "            return right #este es para saber donde es que nos quedamos y asi poder seguir ordenando los demas elementos\n",
        "        else:\n",
        "            arreglo[left], arreglo[right] = arreglo[right], arreglo[left]\n",
        "            \n",
        "            if(verbose):\n",
        "              print(\"\\nPivote :\",color(pivote,\"green\"))\n",
        "              print(\"\\nen la posicion:\",color(right,\"red\"),\"\\nse cambia el numero: \",color(arreglo[left],\"red\"),\n",
        "                    \"\\npor el numero\",color(arreglo[right],\"blue\"),\"\\nen la posicion :\", color(left,\"blue\"),\"\\n\")\n",
        "            left += 1\n",
        "            right -= 1\n",
        "        if(verbose):\n",
        "          print(arreglo)\n"
      ],
      "metadata": {
        "id": "yV9rUd7uo50M"
      },
      "execution_count": null,
      "outputs": []
    },
    {
      "cell_type": "code",
      "source": [
        "#MAIN CON PIVOTE PRIMER ELEMENTO\n",
        "\n",
        "var = random.randint(1,10)\n",
        "Array = random.sample(range(0,100),var)\n",
        "verbose = False\n",
        "print(color(\"Entrada:\",\"red\"),Array)\n",
        "quicksortF(Array,0,var-1)\n",
        "print(color(\"Salida:\", \"blue\"), Array)"
      ],
      "metadata": {
        "id": "DFAjEP__rcCE",
        "colab": {
          "base_uri": "https://localhost:8080/"
        },
        "outputId": "c6fdfdcf-a35d-4685-f852-66da439a68f1"
      },
      "execution_count": null,
      "outputs": [
        {
          "output_type": "stream",
          "name": "stdout",
          "text": [
            "\u001b[31mEntrada:\u001b[0m [99, 21, 97, 94, 3, 33, 59, 10, 43]\n",
            "\n",
            "Pivote : \u001b[32m99\u001b[0m\n",
            "\n",
            "en la posicion: \u001b[31m8\u001b[0m \n",
            "se cambia el numero:  \u001b[31m43\u001b[0m \n",
            "por el numero \u001b[34m99\u001b[0m \n",
            "en la posicion : \u001b[34m0\u001b[0m \n",
            "\n",
            "[43, 21, 97, 94, 3, 33, 59, 10, 99]\n",
            "\n",
            "Pivote : \u001b[32m43\u001b[0m\n",
            "\n",
            "en la posicion: \u001b[31m7\u001b[0m \n",
            "se cambia el numero:  \u001b[31m10\u001b[0m \n",
            "por el numero \u001b[34m43\u001b[0m \n",
            "en la posicion : \u001b[34m0\u001b[0m \n",
            "\n",
            "[10, 21, 97, 94, 3, 33, 59, 43, 99]\n",
            "\n",
            "Pivote : \u001b[32m43\u001b[0m\n",
            "\n",
            "en la posicion: \u001b[31m5\u001b[0m \n",
            "se cambia el numero:  \u001b[31m33\u001b[0m \n",
            "por el numero \u001b[34m97\u001b[0m \n",
            "en la posicion : \u001b[34m2\u001b[0m \n",
            "\n",
            "[10, 21, 33, 94, 3, 97, 59, 43, 99]\n",
            "\n",
            "Pivote : \u001b[32m43\u001b[0m\n",
            "\n",
            "en la posicion: \u001b[31m4\u001b[0m \n",
            "se cambia el numero:  \u001b[31m3\u001b[0m \n",
            "por el numero \u001b[34m94\u001b[0m \n",
            "en la posicion : \u001b[34m3\u001b[0m \n",
            "\n",
            "[10, 21, 33, 3, 94, 97, 59, 43, 99]\n",
            "\n",
            "Pivote : \u001b[32m10\u001b[0m\n",
            "\n",
            "en la posicion: \u001b[31m3\u001b[0m \n",
            "se cambia el numero:  \u001b[31m3\u001b[0m \n",
            "por el numero \u001b[34m10\u001b[0m \n",
            "en la posicion : \u001b[34m0\u001b[0m \n",
            "\n",
            "[3, 21, 33, 10, 94, 97, 59, 43, 99]\n",
            "\n",
            "Pivote : \u001b[32m21\u001b[0m\n",
            "\n",
            "en la posicion: \u001b[31m3\u001b[0m \n",
            "se cambia el numero:  \u001b[31m10\u001b[0m \n",
            "por el numero \u001b[34m21\u001b[0m \n",
            "en la posicion : \u001b[34m1\u001b[0m \n",
            "\n",
            "[3, 10, 33, 21, 94, 97, 59, 43, 99]\n",
            "\n",
            "Pivote : \u001b[32m33\u001b[0m\n",
            "\n",
            "en la posicion: \u001b[31m3\u001b[0m \n",
            "se cambia el numero:  \u001b[31m21\u001b[0m \n",
            "por el numero \u001b[34m33\u001b[0m \n",
            "en la posicion : \u001b[34m2\u001b[0m \n",
            "\n",
            "[3, 10, 21, 33, 94, 97, 59, 43, 99]\n",
            "\n",
            "Pivote : \u001b[32m94\u001b[0m\n",
            "\n",
            "en la posicion: \u001b[31m7\u001b[0m \n",
            "se cambia el numero:  \u001b[31m43\u001b[0m \n",
            "por el numero \u001b[34m94\u001b[0m \n",
            "en la posicion : \u001b[34m4\u001b[0m \n",
            "\n",
            "[3, 10, 21, 33, 43, 97, 59, 94, 99]\n",
            "\n",
            "Pivote : \u001b[32m94\u001b[0m\n",
            "\n",
            "en la posicion: \u001b[31m6\u001b[0m \n",
            "se cambia el numero:  \u001b[31m59\u001b[0m \n",
            "por el numero \u001b[34m97\u001b[0m \n",
            "en la posicion : \u001b[34m5\u001b[0m \n",
            "\n",
            "[3, 10, 21, 33, 43, 59, 97, 94, 99]\n",
            "\n",
            "Pivote : \u001b[32m97\u001b[0m\n",
            "\n",
            "en la posicion: \u001b[31m7\u001b[0m \n",
            "se cambia el numero:  \u001b[31m94\u001b[0m \n",
            "por el numero \u001b[34m97\u001b[0m \n",
            "en la posicion : \u001b[34m6\u001b[0m \n",
            "\n",
            "[3, 10, 21, 33, 43, 59, 94, 97, 99]\n",
            "\u001b[34mSalida:\u001b[0m [3, 10, 21, 33, 43, 59, 94, 97, 99]\n"
          ]
        }
      ]
    },
    {
      "cell_type": "code",
      "source": [
        "def MergeSort(A, verbose):\n",
        "   global count_recur # contador de veces que se llama a si misma\n",
        "   global entrar\n",
        "   count_recur+=1\n",
        "   if verbose: \n",
        "     if(entrar == 0):\n",
        "        print(\"input array:\",a)\n",
        "     entrar=1\n",
        "\n",
        "   if len(A) == 1 or len(A) == 0: \n",
        "     return A  #si el largo del array es 0 o 1 indica que ya esta ordenado\n",
        "   else:\n",
        "     if len(A) > 1:\n",
        "      mitad = ((len(A))//2) #elemento medio del arreglo\n",
        "      lado_izq = A[:mitad] #ordena la parte izquierda del arreglo que va del inicio hasta la mitad\n",
        "      lado_der = A[mitad:] #ordena la parte derecha del arreglo que va de la mitad hasta el final\n",
        "\n",
        "      #Se llama Recursivamente\n",
        "      MergeSort(lado_izq,verbose)\n",
        "      MergeSort(lado_der,verbose) \n",
        "      Merge(lado_izq,lado_der,A,verbose)\n",
        "    \n",
        "#Función Merge reordena todos los elementos en un arreglo\n",
        "\n",
        "def Merge(izq,der,A,verbose):\n",
        "  i=0 #indices\n",
        "  j=0 #indices\n",
        "  k=0 #indices \n",
        "  global comp #numero de comparaciones realizadas\n",
        "  global numero_llemadas\n",
        "  array = A\n",
        "\n",
        "  if verbose:\n",
        "      print(color(f\"Pasada {numero_llemadas}\",\"green\"))\n",
        "      numero_llemadas += 1\n",
        "      print(color(\"subdivisiones:\",\"blue\"))\n",
        "      print(izq,\" y \",der)\n",
        "      print(color(\"Proceso:\",\"blue\"))\n",
        "  while(i < len(izq) and j < len(der)):\n",
        "    if izq[i] < der[j]:\n",
        "      array[k] = izq[i]\n",
        "      i += 1\n",
        "    else:\n",
        "      array[k] = der[j]\n",
        "      j += 1\n",
        "    comp +=1\n",
        "    k += 1\n",
        "    if verbose:mostrar(array,k)\n",
        "  \n",
        "  while i < len(izq):\n",
        "            array[k] = izq[i]\n",
        "            i += 1\n",
        "            k += 1\n",
        "            comp +=1\n",
        "            if verbose:mostrar(array,k)\n",
        "\n",
        "  while j < len(der):\n",
        "            array[k] = der[j]\n",
        "            j += 1\n",
        "            k += 1\n",
        "            comp +=1\n",
        "            if verbose:mostrar(array,k)\n",
        " \n",
        "  return array\n",
        "\n",
        "#Mostrar Arreglo\n",
        "def mostrar(A, k):\n",
        "  print(\"[\", end=\"\")\n",
        "  for i in range(0, k):\n",
        "    if (i == 0):\n",
        "      print(A[i], end=\"\")\n",
        "    else:\n",
        "      print(\",\",A[i], end=\"\")\n",
        "  print(\"]\")\n",
        "\n",
        "A = [39,27,43,3,9,82,10]\n",
        "print(color(\"Entrada: \",\"blue\"),A)\n",
        "comp = 0\n",
        "count_recur = -1\n",
        "entrar = 0\n",
        "numero_llemadas=1\n",
        "verbose = False\n",
        "MergeSort(A,verbose)\n",
        "print(color(\"Salida: \",\"red\"),A)\n",
        "print(\"Número de veces que se llamo MergeSort:\",color(f\"{str(count_recur)}\",\"blue\"))\n",
        "print(\"Número de comparaciones realizadas:\",color(f\"{str(comp)}\",\"blue\"))"
      ],
      "metadata": {
        "colab": {
          "base_uri": "https://localhost:8080/"
        },
        "id": "A6xeYV3201Ul",
        "outputId": "48259e7b-8733-4cd2-e35f-0fa5c40f98b3"
      },
      "execution_count": null,
      "outputs": [
        {
          "output_type": "stream",
          "name": "stdout",
          "text": [
            "\u001b[34mEntrada: \u001b[0m [39, 27, 43, 3, 9, 82, 10]\n",
            "\u001b[31mSalida: \u001b[0m [3, 9, 10, 27, 39, 43, 82]\n",
            "Número de veces que se llamo MergeSort: \u001b[34m12\u001b[0m\n",
            "Número de comparaciones realizadas: \u001b[34m20\u001b[0m\n"
          ]
        }
      ]
    },
    {
      "cell_type": "markdown",
      "source": [
        "# 2.2. Descripción del algoritmo"
      ],
      "metadata": {
        "id": "MIBIW2xvziFK"
      }
    },
    {
      "cell_type": "markdown",
      "source": [
        "\n",
        "Este algoritmo trabajara con un pivote, que puede ser cualquier elemento que este presente en el arreglo (se recomienda que sea un elemento que este presente aproximadoamente al medio del arreglo) ,este será utilizado para realizar comparaciones con sus extremos de cada lado es decir su extremo del lado izquierdo y el del derecho (si es que el pivote se encuetra en medio del arreglo), donde en el lado izquierdo estarán los elementos menores que el pivote , y en el derecho estarán los elementos mayores que el pivote, por ende se tendrá que preguntar a elemento por elemento de cada extremo si es que cumplen la condición mencionada, si es que ambas condiciones no cumplen en cada extremo estos elementos de los extremos deberán intercambiarse (como sale en el siguiente ejemplo), una vez terminada todas las comparaciones , el lado izquierdo y el derecho volverán a particionarse en dos nuevamente (es solo una idea para representar el problema, es decir siempre se trabajará con el mismo arreglo, nunca se partirá en 2 literalmente), para volver hacer el mismo proceso (recursividad ), esto funcionara así hasta que se encuentren todos los elementos ordenados.\n"
      ],
      "metadata": {
        "id": "N6ly5zvhzuRv"
      }
    },
    {
      "cell_type": "markdown",
      "source": [
        "Este es un algoritmo que se puede definir convenientemente como un procedimiento recursivo, aplicando técnica ya conocida $Divide$ $y$ $vencerás$ , este mismo tiene una propiedad de trabajar mejor para arreglos con elementos completamente desordenados que con los elementos semiordenados,el proposito del algoritmo es ordenar de menor a mayor (en este caso en particular) un arreglo o lista de $N$ elementos .\n",
        "\n",
        "QuickSort recibe un arreglo desordenado de largo $n$.  \n",
        "Los pasos a seguir son los siguientes:\n",
        "1. Se elige un número como pivote para próximamente dividir el arreglo.\n",
        "2. Utilizando la función _\"partition\"_ se divide en dos el arreglo, de manera que el sub-arreglo izquierdo contiene los números menores que el pivote, mientras que el sub-arreglo derecho estará compuesto por los elementos mayores que el pivote.\n",
        "3. Esta regla se irá repitiendo recursivamente hasta conseguir ordenar el arreglo, de esta forma, los sub-arreglos serán cada vez más cortos.\n",
        "\n",
        "**Ejemplo paso a paso**  \n",
        "Como entrada se obtiene el arreglo $[3, 5, 8, 2, 4, 7]$, en el cuál se eligirá como pivote el último elemento.  \n",
        "Se irá comparando el pivote con los elementos de izquierda a derecha, guardando la posición de los elementos mayores al pivote para poder intercambiarlos luego por los números menores al pivote. \n",
        "\n",
        "**Paso 1**  \n",
        "$[3, 5, 8, 2, 4, 7]$ → Pivote: 7  \n",
        "\n",
        "$¿ 3 < 7 ?$ Si, pero como todavía no hay números mayores al pivote, se ignora.  \n",
        "$¿ 5 < 7 ?$ Si, pero también se ignora.  \n",
        "$¿ 8 < 7 ?$ No, por lo que se guardará esta posición para mas tarde.  \n",
        "$¿ 2 < 7 ?$ Si, entonces se intercambiará por el número mayor encontrado antes.  \n",
        "\n",
        "$[3, 5, 2, 8, 4, 7]$  \n",
        "\n",
        "$¿ 4 < 7 ?$ Si, entonces se intercambiará por el primer mayor encontrado.\n",
        "\n",
        "$[3, 5, 2, 4, 8, 7]$  \n",
        "Se terminó de recorrer el arreglo. Como último paso, se intercambia el pivote por el primer mayor encontrado.   \n",
        "**Resultado:** → $[3, 5, 2, 4, 7, 8]$\n",
        "\n",
        "**Paso 2**  \n",
        "Se dividirá este arreglo en dos, como mitad el pivote anterior, sin incluir el pivote en ninguno de los sub-arreglos divididos. Como el sub-arreglo derecho solo está compuesto por un elemento, no se hará este proceso.  \n",
        "$[3, 5, 2, 4]$ → Pivote: 4\n",
        "\n",
        "$¿ 3 < 4 ?$ Si, se debería intercambiar por el primer mayor encontrado, pero no hay.  \n",
        "$¿ 5 < 4 ?$ No, por lo que se guardará esta posición para más tarde.  \n",
        "$¿ 2 < 4 ?$ Si, por lo que se hace el cambio con el primer mayor. \n",
        "\n",
        "$[3, 2, 5, 4]$\n",
        "\n",
        "Por último se cambiará el pivote por el primer número mayor que el pivote encontrado, por lo que se intercambia con el número $5$.\n",
        "\n",
        "**Resultado:** → $[3, 2, 4, 5]$\n",
        "\n",
        "**Paso 3**  \n",
        "Como se comentó anteriormente, con los sub-arreglos de largo $1$ no se utilizará la función _\"partition\"_, por lo que sólo se procesará el sub-arreglo izquierdo.  \n",
        "$[3, 2]$ → Pivote: 2\n",
        "\n",
        "$¿ 3 < 2 ?$ No, por lo que este número es el primer mayor encontrado, y como no se recorrerá más este sub-arreglo, sólo se intercambiarán entre sí.\n",
        "\n",
        "**Resultado:** → $[2, 3]$\n",
        " \n",
        "Como aclaración, en ningún momento se dividió realmente este arreglo, sólo se trabajaba con sub-arreglos mediante el control de índices, así que el arreglo se modificaba de manera que se ordenaba poco a poco.  Como consecuencia se unen: $[2, 3]$, el pivote $4$, $[5]$, el pivote $7$ y $[8]$.  \n",
        "Finalmente se consigue el arreglo $[2, 3, 4, 5, 7, 8]$.  \n",
        "Como es posible observar, este arreglo contiene los mismos elementos que el arreglo de entrada, pero se encuentra ordenado, por lo que cumplió el objetivo principal."
      ],
      "metadata": {
        "id": "rlbf0_QDvaRP"
      }
    },
    {
      "cell_type": "markdown",
      "source": [
        "# 2.4. Ejecución del algoritmo paso a paso (verbose=True)"
      ],
      "metadata": {
        "id": "vb2aUsYlQN0o"
      }
    },
    {
      "cell_type": "markdown",
      "source": [
        "Con la opción verbose `True` se podra ver lo que ocurre "
      ],
      "metadata": {
        "id": "o3OzAeC1VlU4"
      }
    },
    {
      "cell_type": "code",
      "source": [
        "#VERBOSE(True)\n",
        "\n",
        "var = random.randint(1,10)\n",
        "Array = random.sample(range(0,100),var)\n",
        "verbose = True \n",
        "print(color(\"Entrada:\",\"red\"),Array)\n",
        "quicksortF(Array,0,var-1)\n",
        "print(color(\"Salida:\", \"blue\"), Array)"
      ],
      "metadata": {
        "colab": {
          "base_uri": "https://localhost:8080/"
        },
        "id": "WAlLUCGoW9zP",
        "outputId": "98ef2d60-9f1b-4766-9261-eb598b641991"
      },
      "execution_count": null,
      "outputs": [
        {
          "output_type": "stream",
          "name": "stdout",
          "text": [
            "\u001b[31mEntrada:\u001b[0m [73, 43, 52, 86, 79, 66, 64]\n",
            "\n",
            "Pivote : \u001b[32m73\u001b[0m\n",
            "\n",
            "en la posicion: \u001b[31m6\u001b[0m \n",
            "se cambia el numero:  \u001b[31m64\u001b[0m \n",
            "por el numero \u001b[34m73\u001b[0m \n",
            "en la posicion : \u001b[34m0\u001b[0m \n",
            "\n",
            "[64, 43, 52, 86, 79, 66, 73]\n",
            "\n",
            "Pivote : \u001b[32m73\u001b[0m\n",
            "\n",
            "en la posicion: \u001b[31m5\u001b[0m \n",
            "se cambia el numero:  \u001b[31m66\u001b[0m \n",
            "por el numero \u001b[34m86\u001b[0m \n",
            "en la posicion : \u001b[34m3\u001b[0m \n",
            "\n",
            "[64, 43, 52, 66, 79, 86, 73]\n",
            "\n",
            "Pivote : \u001b[32m64\u001b[0m\n",
            "\n",
            "en la posicion: \u001b[31m2\u001b[0m \n",
            "se cambia el numero:  \u001b[31m52\u001b[0m \n",
            "por el numero \u001b[34m64\u001b[0m \n",
            "en la posicion : \u001b[34m0\u001b[0m \n",
            "\n",
            "[52, 43, 64, 66, 79, 86, 73]\n",
            "\n",
            "Pivote : \u001b[32m52\u001b[0m\n",
            "\n",
            "en la posicion: \u001b[31m1\u001b[0m \n",
            "se cambia el numero:  \u001b[31m43\u001b[0m \n",
            "por el numero \u001b[34m52\u001b[0m \n",
            "en la posicion : \u001b[34m0\u001b[0m \n",
            "\n",
            "[43, 52, 64, 66, 79, 86, 73]\n",
            "\n",
            "Pivote : \u001b[32m79\u001b[0m\n",
            "\n",
            "en la posicion: \u001b[31m6\u001b[0m \n",
            "se cambia el numero:  \u001b[31m73\u001b[0m \n",
            "por el numero \u001b[34m79\u001b[0m \n",
            "en la posicion : \u001b[34m4\u001b[0m \n",
            "\n",
            "[43, 52, 64, 66, 73, 86, 79]\n",
            "\n",
            "Pivote : \u001b[32m86\u001b[0m\n",
            "\n",
            "en la posicion: \u001b[31m6\u001b[0m \n",
            "se cambia el numero:  \u001b[31m79\u001b[0m \n",
            "por el numero \u001b[34m86\u001b[0m \n",
            "en la posicion : \u001b[34m5\u001b[0m \n",
            "\n",
            "[43, 52, 64, 66, 73, 79, 86]\n",
            "\u001b[34mSalida:\u001b[0m [43, 52, 64, 66, 73, 79, 86]\n"
          ]
        }
      ]
    },
    {
      "cell_type": "markdown",
      "source": [
        "#3. **Tiempo de ejecución** \\\n",
        "**Teorema (Tiempo de ejecución).**\n",
        "1. El algoritmo **Quick Sort** tiene un `tiempo de ejecución` de **o($n^2$)** en el peor caso.\n",
        "2. El algoritmo **Quick Sort** tiene un `tiempo de ejecución` de **o($n· logn$)** en el mejor caso.\n",
        "3. El algoritmo **Insertion Sort** tiene un `tiempo de ejecución` de **o($n· logn$)**  en el caso promedio para un arreglo aleatorio.\n"
      ],
      "metadata": {
        "id": "FcC86rWOXoVi"
      }
    },
    {
      "cell_type": "markdown",
      "source": [
        "###**Tiempo de ejecución**\n",
        "**Método Maestro:**  \n",
        "Se calculará el tiempo de ejecución del algoritmo mediante el método maestro.  \n",
        "Sabemos que QuickSort es un algoritmo recursivo, que se va dividiendo en dos partes en el mejor y caso promedio, por lo que la función que lo representa es: \n",
        "-  $T(n) = 2T(n/2) + O(n)$\n",
        "\n",
        "Analizando esta estructura: $T(n) = aT(n/b) + O(n^d)$  \n",
        "y siguiendo estas reglas:  \n",
        "\n",
        "![image.png](https://chartreuse-goal-d5c.notion.site/image/https%3A%2F%2Fs3-us-west-2.amazonaws.com%2Fsecure.notion-static.com%2F6be820c4-964e-44c1-acbd-db888889e8df%2FUntitled.png?table=block&id=1f05807a-07c4-4bd5-a59a-4402523d7383&spaceId=4f8bebe4-a843-44d2-b6ee-51e2006a90d1&width=2000&userId=&cache=v2)\n",
        "\n",
        "Se puede calcular el tiempo de ejecución, teniendo que $a = 2$, $b = 2$, y $d = 1$, observamos que se cumple la condición $a = b^d$, como consecuencia podemos afirmar que el tiempo de ejecución de QuickSort es:\n",
        "- $Ω(n \\cdot logn)$ para el mejor caso.  \n",
        "- $O(n \\cdot logn)$ para el caso promedio.  \n",
        "\n",
        "**Árbol Recursivo:**  \n",
        "También analizaremos el árbol recursivo del algoritmo para respaldar la información obtenida en el estudio anterior sobre el mejor y caso promedio.  \n",
        "Sabemos que el tiempo de ejecución es representada por $T(n) = 2T(n/2) + O(n)$, entonces podemos decir que el arreglo se va dividiendo en dos ramas, cada una de ellas conformada por una mitad del arreglo anterior, resultando en un árbol recursivo como el que se encuentra a continuación:  \n",
        "\n",
        "![image.png](https://cdn.kastatic.org/ka-perseus-images/21cd0d70813845d67fbb11496458214f90ad7cb8.png)\n",
        "\n",
        "Para calcular el tiempo de ejecución de todo el algoritmo, se debe multiplicar la altura del árbol, por el tiempo que tarda en ejecutar cada nivel, teniendo como factores $logn \\cdot cn$, resultando como producto $cnlogn$, es decir, complejidad temporal $O(n \\cdot logn)$.\n",
        "\n",
        "El peor caso es diferente, y se presenta cuando el arreglo de entrada ya se encuentra ordenado, y se escoge como pivote el último o el primer elemento, por consiguiente, un arreglo de largo $n$ se divide en dos arreglos, un sub-arreglo de largo $n-1$, y otro de largo $1$. Se puede construir el siguiente árbol recursivo:  \n",
        "\n",
        "![image.png](https://www.baeldung.com/wp-content/uploads/sites/4/2020/08/Capture-768x509.png)\n",
        ")\n",
        "\n",
        "Analizando el árbol recursivo, podemos darnos cuenta que el tiempo de ejecución se puede calcular de esta manera:  \n",
        "- $n + (n-1) + (n-2) + (n-3) + (n-4) + ... + 2$\n",
        "\n",
        "Este calculo se puede reescribir como $[n(n-1)/2] -1$, obteniendo como resultado $(n^2 - n)/2 - 1$, donde es observable que el polinomio de mayor grado es $n^2$, de esta forma podemos afirmar que el tiempo de ejecución de QuickSort en el peor caso es: $O(n^2)$.\n"
      ],
      "metadata": {
        "id": "pW1TmKPzbiSt"
      }
    },
    {
      "cell_type": "markdown",
      "source": [
        "###**Prueba de Correctitud**\n",
        "Para probar si QuickSort es correcto o no, utilizaremos **inducción matemática**. Para esto es necesario comprobar que ocurre durante el proceso en un arreglo de largo $n$, en dos casos específicos:\n",
        "- **Caso base:** Cuando $n = 1$.\n",
        "- **Caso General:** Cuando el arreglo es de largo $m$, con $m < n$.\n",
        "\n",
        "En el caso base, el arreglo tiene sólo elemento, esto quiere decir que no tiene nada que hacer, y retorna este único número.  \n",
        "Para el caso general, si tenemos un arreglo de largo $n$, este se sub-divide en dos, debido a la función *partition*, esto hace que ahora los arreglos tenga menor largo, y se van sub-dividiendo hasta que los sub-arreglos de largo $1$.  \n",
        "Dicho esto, se puede afirmar que el algoritmo QuickSort es correcto para arreglos de largo $n$."
      ],
      "metadata": {
        "id": "L7QR0QvMjtCc"
      }
    },
    {
      "cell_type": "markdown",
      "source": [
        "# 4. Tiempo de ejecución(experimental)\n",
        "En el siguiente gráfico se reporta el tiempo de ejecución del algoritmo **QuickSort** en función del tamaño del problema para arreglos generados aleatoriamente de tamaños entre $5$ y $500$."
      ],
      "metadata": {
        "id": "BeygG4LFgQE7"
      }
    },
    {
      "cell_type": "code",
      "source": [
        "import matplotlib.pyplot as plt\n",
        "import datetime\n",
        "from timeit import repeat\n",
        "\n",
        "x=[]; y=[];y2=[]\n",
        "\n",
        "for n in range(5,500):\n",
        "\n",
        "  a = random.sample(range(1, 1000), n)\n",
        "\n",
        "  #la función repeat está ejecutando 20 veces quicksortF con el arreglo a y retorna el mejor tiepo obtenido.\n",
        "  t = repeat(setup=\"from __main__ import MergeSort\", stmt=f\"MergeSort({a},{False})\", repeat=1, number=10)\n",
        "  t2 = repeat(setup=\"from __main__ import quicksortF\", stmt=f\"quicksortF({a},{0},{len(a)-1})\", repeat=1, number=10)\n",
        "\n",
        "  x.append(n)\n",
        "  y.append(t)\n",
        "  y2.append(t2)\n",
        "\n",
        "\n",
        "plt.plot(x,y)\n",
        "plt.plot(x,y2)\n",
        "plt.legend([\"MergeSort\",\"quicksortF\"])\n",
        "\n",
        "\n",
        "plt.xlabel('n')\n",
        "plt.ylabel('time in ms')\n",
        "plt.show()"
      ],
      "metadata": {
        "colab": {
          "base_uri": "https://localhost:8080/",
          "height": 279
        },
        "id": "X8pvU36xh0z0",
        "outputId": "a3e535a5-6456-4e41-9bc3-29c62fc0bcc5"
      },
      "execution_count": null,
      "outputs": [
        {
          "output_type": "display_data",
          "data": {
            "text/plain": [
              "<Figure size 432x288 with 1 Axes>"
            ],
            "image/png": "[encoded data removed]"
          },
          "metadata": {
            "needs_background": "light"
          }
        }
      ]
    },
    {
      "cell_type": "markdown",
      "source": [
        "### Análisis de resultados\n",
        "\n",
        "Ambos graficos se comportan de manera lineal, pero dejando un mejor tiempo es sin duda el algoritmo Quicksort ya que como se evidencia tiene mucho menos tiempo que el MergeSort."
      ],
      "metadata": {
        "id": "p8em6xbgixqC"
      }
    },
    {
      "cell_type": "markdown",
      "source": [
        "###**Competitividad del Algoritmo**\n",
        "Para este estudio compararemos QuickSort con diferentes algoritmos para enterarse de la capacidad de éste, en diferentes ámbitos."
      ],
      "metadata": {
        "id": "Onj3m_q2RlSQ"
      }
    },
    {
      "cell_type": "markdown",
      "source": [
        "El siguiente algoritmo corresponde al algoritmo **HeapSort**, el cual usaremos para nuestros experimentos."
      ],
      "metadata": {
        "id": "ykarcFfKSQfB"
      }
    },
    {
      "cell_type": "code",
      "source": [
        "# HEAPSORT\n",
        "def heapify(arr, N, i):\n",
        "    largest = i\n",
        "    l = 2 * i + 1\n",
        "    r = 2 * i + 2\n",
        "    global compHS\n",
        "    compHS+=3\n",
        "    if l < N and arr[largest] < arr[l]:\n",
        "        largest = l\n",
        "    if r < N and arr[largest] < arr[r]:\n",
        "        largest = r\n",
        "    if largest != i:\n",
        "        arr[i], arr[largest] = arr[largest], arr[i]  # swap\n",
        "        heapify(arr, N, largest)\n",
        "def heapSort(arr):\n",
        "    N = len(arr)\n",
        "    for i in range(N//2 - 1, -1, -1):\n",
        "        heapify(arr, N, i)\n",
        "    for i in range(N-1, 0, -1):\n",
        "        arr[i], arr[0] = arr[0], arr[i]\n",
        "        heapify(arr, i, 0)\n",
        "# This code is contributed by Mohit Kumra\n",
        "# Code from https://www.geeksforgeeks.org/heap-sort/"
      ],
      "metadata": {
        "id": "pkkG8XntQ9Ux"
      },
      "execution_count": null,
      "outputs": []
    },
    {
      "cell_type": "markdown",
      "source": [
        "**Cantidad de Comparaciones**  \n",
        "\n",
        "Este experimento estará dirigido a la cantidad de comparaciones que hace cada algoritmo durante su proceso, y con los gráficos resultantes, veremos la diferencia entre estos.  \n",
        "Para esto se utilizarán arreglos de largo $n$, con $n \\in [5, 500]$ conteniendo números $\\in [1, 1000]$."
      ],
      "metadata": {
        "id": "r5Y5zuO3SypA"
      }
    },
    {
      "cell_type": "code",
      "source": [
        "x=[n for n in range(5,500)] \n",
        "y=[]; y2=[]; y3=[]\n",
        "\n",
        "verbose = False\n",
        "for n in range(5,500):\n",
        "  compcount = 0 # counter for QuickSort\n",
        "  compMG = 0 # for MergeSort\n",
        "  compHS = 0 # for HeapSort\n",
        "\n",
        "  a = rd.sample(range(1, 1000), n) #QS\n",
        "  b = np.copy(a) #MS\n",
        "  c = np.copy(a) #HS\n",
        "\n",
        "  qsort(a, 0, n-1)\n",
        "  msort(b)\n",
        "  heapSort(c)\n",
        "\n",
        "  y.append(compcount)\n",
        "  y2.append(compMG)\n",
        "  y3.append(compHS)\n",
        "\n",
        "plt.plot(x,y)\n",
        "plt.plot(x,y2)\n",
        "plt.plot(x,y3)\n",
        "plt.legend([\"QuickSort\", \"MergeSort\", \"HeapSort\"])\n",
        "\n",
        "plt.xlabel('n')\n",
        "plt.ylabel('number of comparations')\n",
        "plt.show()"
      ],
      "metadata": {
        "colab": {
          "base_uri": "https://localhost:8080/",
          "height": 279
        },
        "id": "ZoFhq6ChTraa",
        "outputId": "b0e182a8-af6b-4ee0-9f5b-e9b5e90375e3"
      },
      "execution_count": null,
      "outputs": [
        {
          "output_type": "display_data",
          "data": {
            "text/plain": [
              "<Figure size 432x288 with 1 Axes>"
            ],
            "image/png": "[encoded data removed]"
          },
          "metadata": {
            "needs_background": "light"
          }
        }
      ]
    },
    {
      "cell_type": "markdown",
      "source": [
        "#Análisis\n",
        "Se observa que entre los algoritmo MergeSort y QuickSort no hay demasiada diferencia, pero MergeSort logra ordenar los arreglos en menos comparaciones, siendo el más viable cuando hablamos de comparaciones.  \n",
        "En cambio, HeapSort sobrepasa por mucho a los otros dos algoritmos en las cantidades de comparaciones hechas durante el ordenamiento, poniéndolo en último lugar."
      ],
      "metadata": {
        "id": "5Onf6tbeWXbH"
      }
    },
    {
      "cell_type": "markdown",
      "source": [
        "###**Casos Teóricos**\n",
        "Compararemos la diferencia de la cantidad de comparaciones hechas de QuickSort durante el proceso real con los mejores, peores y casos promedios teóricos calculándolos matemáticamente.  \n",
        "Para este estudio se utilizarán arreglos de largo $n$, con $n \\in [5, 50]$ compuestos por números $\\in [1, 100]$."
      ],
      "metadata": {
        "id": "YNySVgx5hbav"
      }
    },
    {
      "cell_type": "code",
      "source": [
        "x=[n for n in range(5,50)] \n",
        "y1=[n*math.log2(n) for n in range(5,50)] # best and average case\n",
        "y2=[n*n for n in range(5, 50)]\n",
        "y=[]; \n",
        "\n",
        "verbose = False\n",
        "pivot = 5\n",
        "for n in range(5,50):\n",
        "  compcount = 0\n",
        "  a = rd.sample(range(1, 100), n)\n",
        "  qsort(a, 0, n-1)\n",
        "  y.append(compcount)\n",
        "\n",
        "plt.plot(x,y)\n",
        "plt.plot(x,y1)\n",
        "plt.plot(x,y2)\n",
        "plt.legend([\"experimental quicksort\", \"best and average case\", \"worst case\"])\n",
        "\n",
        "plt.xlabel('n')\n",
        "plt.ylabel('number of comparations')\n",
        "plt.show()"
      ],
      "metadata": {
        "colab": {
          "base_uri": "https://localhost:8080/",
          "height": 282
        },
        "id": "VRlCm9KLhqbo",
        "outputId": "db9a3bcd-1ff3-48c2-d5c4-6fac2de2d11f"
      },
      "execution_count": null,
      "outputs": [
        {
          "output_type": "display_data",
          "data": {
            "text/plain": [
              "<Figure size 432x288 with 1 Axes>"
            ],
            "image/png": "[encoded data removed]"
          },
          "metadata": {
            "needs_background": "light"
          }
        }
      ]
    },
    {
      "cell_type": "markdown",
      "source": [
        "### Análisis de resultados\n",
        "como vemos nuestro caso teorico de peor caso comparado con el mejor tiene una gran diferencia como era de esperarse.\n",
        "Ahora si observamos el mejor caso junto con todos los resultados del algoritmo original no damos cuenta que casi nunca tiene un peor caso, y este es casi identico al mejor caso teorico, lo cual me da a intuir que es un algoritmo eficiente."
      ],
      "metadata": {
        "id": "4a27HRWx38xk"
      }
    }
  ]
}
