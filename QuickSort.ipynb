{
  "nbformat": 4,
  "nbformat_minor": 0,
  "metadata": {
    "colab": {
      "provenance": [],
      "include_colab_link": true
    },
    "kernelspec": {
      "name": "python3",
      "display_name": "Python 3"
    },
    "language_info": {
      "name": "python"
    }
  },
  "cells": [
    {
      "cell_type": "markdown",
      "metadata": {
        "id": "view-in-github",
        "colab_type": "text"
      },
      "source": [
        "<a href=\"https://colab.research.google.com/github/WINIRAIS/ADA-Informes/blob/main/QuickSort.ipynb\" target=\"_parent\"><img src=\"https://colab.research.google.com/assets/colab-badge.svg\" alt=\"Open In Colab\"/></a>"
      ]
    },
    {
      "cell_type": "markdown",
      "source": [
        "# 1. Problema de Ordenamiento QuickSort\n"
      ],
      "metadata": {
        "id": "eJMMpRMUnth0"
      }
    },
    {
      "cell_type": "markdown",
      "source": [
        "**Entrada**: Una secuencia de números de tamaño N  $[a_1,a_2,...,a_n]$\\\n",
        "Esto refiere a que se tendrá una serie de números los cuales estarán en un orden disperso como se muestra en la imagen de a continuación.\\\n",
        "**Salida** : La misma secuencia ordenada de tal manera que   [$a_1' \\leq a_2' \\leq a_3' .... \\leq a_n'$] \\\n",
        "Esto indica que la misma secuencia ingresada anteriormente se mostrara ordenada de menor a mayor.\n",
        "\n",
        "![image](https://bandageek.com/wp-content/uploads/2017/05/quicksort-1.jpeg)"
      ],
      "metadata": {
        "id": "hDONHalTn8Xu"
      }
    },
    {
      "cell_type": "markdown",
      "source": [
        "# 2. Quick Sort"
      ],
      "metadata": {
        "id": "gtuGJesKzZbh"
      }
    },
    {
      "cell_type": "markdown",
      "source": [
        "El siguiente código muestra la implementación del **Quick sort**\n"
      ],
      "metadata": {
        "id": "atm-llzMntpm"
      }
    },
    {
      "cell_type": "markdown",
      "source": [
        "# 2.1. Código"
      ],
      "metadata": {
        "id": "ptCMY4bhoys-"
      }
    },
    {
      "cell_type": "code",
      "source": [
        "import random\n",
        "from termcolor import colored as color"
      ],
      "metadata": {
        "id": "Dn64SRVGKwom"
      },
      "execution_count": 3,
      "outputs": []
    },
    {
      "cell_type": "code",
      "source": [
        "#Pivote es el ultimo elemento\n",
        "def quicksortL(array, first, last): \n",
        "    \n",
        "    if first < last:\n",
        "      pivote = particionL(array, first, last)\n",
        "      quicksortL(array, first,pivote-1)\n",
        "      quicksortL(array, pivote+1, last)\n",
        "      \n",
        "def particionL(arreglo, left, right):\n",
        "    \"\"\"\n",
        "    funcion de mayor importancia, se detiene cuando parte del arreglo esta casi ordenado\n",
        "    esta retorna el indice donde se quedo la función, par asi ir ordenando los \n",
        "    demas elementos faltantes\n",
        "    \"\"\"\n",
        "    global verbose\n",
        "    pivote = arreglo[right]\n",
        "\n",
        "    while True:#iteracion general para comparar los elementos\n",
        "        while left <= right and arreglo[left] < pivote:\n",
        "            left += 1\n",
        "\n",
        "        while left <= right and arreglo[right] > pivote:\n",
        "            right -= 1\n",
        "\n",
        "        if left >= right:\n",
        "            return right #este es para saber donde es que nos quedamos y asi poder seguir ordenando los demas elementos\n",
        "        else:\n",
        "            arreglo[left], arreglo[right] = arreglo[right], arreglo[left]\n",
        "            \n",
        "            if(verbose):\n",
        "              print(\"\\nPivote :\",color(pivote,\"green\"))\n",
        "              print(\"\\nen la posicion:\",color(right,\"red\"),\"\\nse cambia el numero: \",color(arreglo[left],\"red\"),\n",
        "                    \"\\npor el numero\",color(arreglo[right],\"blue\"),\"\\nen la posicion :\", color(left,\"blue\"),\"\\n\")\n",
        "            left += 1\n",
        "            right -= 1\n",
        "        if(verbose):\n",
        "          print(arreglo)\n"
      ],
      "metadata": {
        "id": "wdb62adILE3h"
      },
      "execution_count": null,
      "outputs": []
    },
    {
      "cell_type": "code",
      "source": [
        "#MAIN CON PIVOTE ULTIMO ELEMENTO\n",
        "\n",
        "var = random.randint(1,10)\n",
        "Array = random.sample(range(0,100),var)\n",
        "verbose = False \n",
        "print(color(\"Entrada:\",\"red\"),Array)\n",
        "quicksortL(Array,0,var-1)\n",
        "print(color(\"Salida:\", \"blue\"), Array)"
      ],
      "metadata": {
        "colab": {
          "base_uri": "https://localhost:8080/"
        },
        "id": "YY7gzMKgLcH4",
        "outputId": "294c9664-e365-48e3-fd8a-4cf0e14d2666"
      },
      "execution_count": null,
      "outputs": [
        {
          "output_type": "stream",
          "name": "stdout",
          "text": [
            "\u001b[31mEntrada:\u001b[0m [43, 40]\n",
            "\u001b[34mSalida:\u001b[0m [40, 43]\n"
          ]
        }
      ]
    },
    {
      "cell_type": "code",
      "source": [
        "#Pivote es el Primer elemento\n",
        "def quicksortF(array, first, last): \n",
        "    if first < last:\n",
        "\n",
        "      pivote = particionF(array, first, last)\n",
        "      quicksortF(array, first,pivote)\n",
        "      quicksortF(array, pivote + 1, last)\n",
        "      \n",
        "def particionF(arreglo, left, right):\n",
        "    \"\"\"\n",
        "    funcion de mayor importancia, se detiene cuando parte del arreglo esta casi ordenado\n",
        "    esta retorna el indice donde se quedo la función, par asi ir ordenando los \n",
        "    demas elementos faltantes\n",
        "    \"\"\"\n",
        "    global verbose\n",
        "    pivote = arreglo[left]\n",
        "\n",
        "    while True:#iteracion general para comparar los elementos\n",
        "        while left <= right and arreglo[left] < pivote:\n",
        "            left += 1\n",
        "\n",
        "        while left <= right and arreglo[right] > pivote:\n",
        "            right -= 1\n",
        "\n",
        "        if left >= right:\n",
        "            return right #este es para saber donde es que nos quedamos y asi poder seguir ordenando los demas elementos\n",
        "        else:\n",
        "            arreglo[left], arreglo[right] = arreglo[right], arreglo[left]\n",
        "            \n",
        "            if(verbose):\n",
        "              print(\"\\nPivote :\",color(pivote,\"green\"))\n",
        "              print(\"\\nen la posicion:\",color(right,\"red\"),\"\\nse cambia el numero: \",color(arreglo[left],\"red\"),\n",
        "                    \"\\npor el numero\",color(arreglo[right],\"blue\"),\"\\nen la posicion :\", color(left,\"blue\"),\"\\n\")\n",
        "            left += 1\n",
        "            right -= 1\n",
        "        if(verbose):\n",
        "          print(arreglo)\n"
      ],
      "metadata": {
        "id": "yV9rUd7uo50M"
      },
      "execution_count": 6,
      "outputs": []
    },
    {
      "cell_type": "code",
      "source": [
        "#MAIN CON PIVOTE PRIMER ELEMENTO\n",
        "\n",
        "var = random.randint(1,10)\n",
        "Array = random.sample(range(0,100),var)\n",
        "verbose = False\n",
        "print(color(\"Entrada:\",\"red\"),Array)\n",
        "quicksortF(Array,0,var-1)\n",
        "print(color(\"Salida:\", \"blue\"), Array)"
      ],
      "metadata": {
        "id": "DFAjEP__rcCE",
        "colab": {
          "base_uri": "https://localhost:8080/"
        },
        "outputId": "c6fdfdcf-a35d-4685-f852-66da439a68f1"
      },
      "execution_count": 9,
      "outputs": [
        {
          "output_type": "stream",
          "name": "stdout",
          "text": [
            "\u001b[31mEntrada:\u001b[0m [99, 21, 97, 94, 3, 33, 59, 10, 43]\n",
            "\n",
            "Pivote : \u001b[32m99\u001b[0m\n",
            "\n",
            "en la posicion: \u001b[31m8\u001b[0m \n",
            "se cambia el numero:  \u001b[31m43\u001b[0m \n",
            "por el numero \u001b[34m99\u001b[0m \n",
            "en la posicion : \u001b[34m0\u001b[0m \n",
            "\n",
            "[43, 21, 97, 94, 3, 33, 59, 10, 99]\n",
            "\n",
            "Pivote : \u001b[32m43\u001b[0m\n",
            "\n",
            "en la posicion: \u001b[31m7\u001b[0m \n",
            "se cambia el numero:  \u001b[31m10\u001b[0m \n",
            "por el numero \u001b[34m43\u001b[0m \n",
            "en la posicion : \u001b[34m0\u001b[0m \n",
            "\n",
            "[10, 21, 97, 94, 3, 33, 59, 43, 99]\n",
            "\n",
            "Pivote : \u001b[32m43\u001b[0m\n",
            "\n",
            "en la posicion: \u001b[31m5\u001b[0m \n",
            "se cambia el numero:  \u001b[31m33\u001b[0m \n",
            "por el numero \u001b[34m97\u001b[0m \n",
            "en la posicion : \u001b[34m2\u001b[0m \n",
            "\n",
            "[10, 21, 33, 94, 3, 97, 59, 43, 99]\n",
            "\n",
            "Pivote : \u001b[32m43\u001b[0m\n",
            "\n",
            "en la posicion: \u001b[31m4\u001b[0m \n",
            "se cambia el numero:  \u001b[31m3\u001b[0m \n",
            "por el numero \u001b[34m94\u001b[0m \n",
            "en la posicion : \u001b[34m3\u001b[0m \n",
            "\n",
            "[10, 21, 33, 3, 94, 97, 59, 43, 99]\n",
            "\n",
            "Pivote : \u001b[32m10\u001b[0m\n",
            "\n",
            "en la posicion: \u001b[31m3\u001b[0m \n",
            "se cambia el numero:  \u001b[31m3\u001b[0m \n",
            "por el numero \u001b[34m10\u001b[0m \n",
            "en la posicion : \u001b[34m0\u001b[0m \n",
            "\n",
            "[3, 21, 33, 10, 94, 97, 59, 43, 99]\n",
            "\n",
            "Pivote : \u001b[32m21\u001b[0m\n",
            "\n",
            "en la posicion: \u001b[31m3\u001b[0m \n",
            "se cambia el numero:  \u001b[31m10\u001b[0m \n",
            "por el numero \u001b[34m21\u001b[0m \n",
            "en la posicion : \u001b[34m1\u001b[0m \n",
            "\n",
            "[3, 10, 33, 21, 94, 97, 59, 43, 99]\n",
            "\n",
            "Pivote : \u001b[32m33\u001b[0m\n",
            "\n",
            "en la posicion: \u001b[31m3\u001b[0m \n",
            "se cambia el numero:  \u001b[31m21\u001b[0m \n",
            "por el numero \u001b[34m33\u001b[0m \n",
            "en la posicion : \u001b[34m2\u001b[0m \n",
            "\n",
            "[3, 10, 21, 33, 94, 97, 59, 43, 99]\n",
            "\n",
            "Pivote : \u001b[32m94\u001b[0m\n",
            "\n",
            "en la posicion: \u001b[31m7\u001b[0m \n",
            "se cambia el numero:  \u001b[31m43\u001b[0m \n",
            "por el numero \u001b[34m94\u001b[0m \n",
            "en la posicion : \u001b[34m4\u001b[0m \n",
            "\n",
            "[3, 10, 21, 33, 43, 97, 59, 94, 99]\n",
            "\n",
            "Pivote : \u001b[32m94\u001b[0m\n",
            "\n",
            "en la posicion: \u001b[31m6\u001b[0m \n",
            "se cambia el numero:  \u001b[31m59\u001b[0m \n",
            "por el numero \u001b[34m97\u001b[0m \n",
            "en la posicion : \u001b[34m5\u001b[0m \n",
            "\n",
            "[3, 10, 21, 33, 43, 59, 97, 94, 99]\n",
            "\n",
            "Pivote : \u001b[32m97\u001b[0m\n",
            "\n",
            "en la posicion: \u001b[31m7\u001b[0m \n",
            "se cambia el numero:  \u001b[31m94\u001b[0m \n",
            "por el numero \u001b[34m97\u001b[0m \n",
            "en la posicion : \u001b[34m6\u001b[0m \n",
            "\n",
            "[3, 10, 21, 33, 43, 59, 94, 97, 99]\n",
            "\u001b[34mSalida:\u001b[0m [3, 10, 21, 33, 43, 59, 94, 97, 99]\n"
          ]
        }
      ]
    },
    {
      "cell_type": "code",
      "source": [
        "def MergeSort(A, verbose):\n",
        "   global count_recur # contador de veces que se llama a si misma\n",
        "   global entrar\n",
        "   count_recur+=1\n",
        "   if verbose: \n",
        "     if(entrar == 0):\n",
        "        print(\"input array:\",a)\n",
        "     entrar=1\n",
        "\n",
        "   if len(A) == 1 or len(A) == 0: \n",
        "     return A  #si el largo del array es 0 o 1 indica que ya esta ordenado\n",
        "   else:\n",
        "     if len(A) > 1:\n",
        "      mitad = ((len(A))//2) #elemento medio del arreglo\n",
        "      lado_izq = A[:mitad] #ordena la parte izquierda del arreglo que va del inicio hasta la mitad\n",
        "      lado_der = A[mitad:] #ordena la parte derecha del arreglo que va de la mitad hasta el final\n",
        "\n",
        "      #Se llama Recursivamente\n",
        "      MergeSort(lado_izq,verbose)\n",
        "      MergeSort(lado_der,verbose) \n",
        "      Merge(lado_izq,lado_der,A,verbose)\n",
        "    \n",
        "#Función Merge reordena todos los elementos en un arreglo\n",
        "\n",
        "def Merge(izq,der,A,verbose):\n",
        "  i=0 #indices\n",
        "  j=0 #indices\n",
        "  k=0 #indices \n",
        "  global comp #numero de comparaciones realizadas\n",
        "  global numero_llemadas\n",
        "  array = A\n",
        "\n",
        "  if verbose:\n",
        "      print(color(f\"Pasada {numero_llemadas}\",\"green\"))\n",
        "      numero_llemadas += 1\n",
        "      print(color(\"subdivisiones:\",\"blue\"))\n",
        "      print(izq,\" y \",der)\n",
        "      print(color(\"Proceso:\",\"blue\"))\n",
        "  while(i < len(izq) and j < len(der)):\n",
        "    if izq[i] < der[j]:\n",
        "      array[k] = izq[i]\n",
        "      i += 1\n",
        "    else:\n",
        "      array[k] = der[j]\n",
        "      j += 1\n",
        "    comp +=1\n",
        "    k += 1\n",
        "    if verbose:mostrar(array,k)\n",
        "  \n",
        "  while i < len(izq):\n",
        "            array[k] = izq[i]\n",
        "            i += 1\n",
        "            k += 1\n",
        "            comp +=1\n",
        "            if verbose:mostrar(array,k)\n",
        "\n",
        "  while j < len(der):\n",
        "            array[k] = der[j]\n",
        "            j += 1\n",
        "            k += 1\n",
        "            comp +=1\n",
        "            if verbose:mostrar(array,k)\n",
        " \n",
        "  return array\n",
        "\n",
        "#Mostrar Arreglo\n",
        "def mostrar(A, k):\n",
        "  print(\"[\", end=\"\")\n",
        "  for i in range(0, k):\n",
        "    if (i == 0):\n",
        "      print(A[i], end=\"\")\n",
        "    else:\n",
        "      print(\",\",A[i], end=\"\")\n",
        "  print(\"]\")\n",
        "\n",
        "A = [39,27,43,3,9,82,10]\n",
        "print(color(\"Entrada: \",\"blue\"),A)\n",
        "comp = 0\n",
        "count_recur = -1\n",
        "entrar = 0\n",
        "numero_llemadas=1\n",
        "verbose = False\n",
        "MergeSort(A,verbose)\n",
        "print(color(\"Salida: \",\"red\"),A)\n",
        "print(\"Número de veces que se llamo MergeSort:\",color(f\"{str(count_recur)}\",\"blue\"))\n",
        "print(\"Número de comparaciones realizadas:\",color(f\"{str(comp)}\",\"blue\"))"
      ],
      "metadata": {
        "colab": {
          "base_uri": "https://localhost:8080/"
        },
        "id": "A6xeYV3201Ul",
        "outputId": "48259e7b-8733-4cd2-e35f-0fa5c40f98b3"
      },
      "execution_count": 5,
      "outputs": [
        {
          "output_type": "stream",
          "name": "stdout",
          "text": [
            "\u001b[34mEntrada: \u001b[0m [39, 27, 43, 3, 9, 82, 10]\n",
            "\u001b[31mSalida: \u001b[0m [3, 9, 10, 27, 39, 43, 82]\n",
            "Número de veces que se llamo MergeSort: \u001b[34m12\u001b[0m\n",
            "Número de comparaciones realizadas: \u001b[34m20\u001b[0m\n"
          ]
        }
      ]
    },
    {
      "cell_type": "markdown",
      "source": [
        "# 2.2. Descripción del algoritmo"
      ],
      "metadata": {
        "id": "MIBIW2xvziFK"
      }
    },
    {
      "cell_type": "markdown",
      "source": [
        "Este es un algoritmo que se puede definir convenientemente como un procedimiento recursivo, aplicando técnica ya conocida $Divide$ $y$ $vencerás$ , este mismo tiene una propiedad de trabajar mejor para arreglos con elementos completamente desordenados que con los elementos semiordenados,el proposito del algoritmo es ordenar de menor a mayor (en este caso en particular) un arreglo o lista de $N$ elementos .\\\n",
        "Este algoritmo trabajara con un pivote, que puede ser cualquier elemento que este presente en el arreglo (se recomienda que sea un elemento que este presente aproximadoamente al medio del arreglo) ,este será utilizado para realizar comparaciones con sus extremos de cada lado es decir su extremo del lado izquierdo y el del derecho (si es que el pivote se encuetra en medio del arreglo), donde en el lado izquierdo estarán los elementos menores que el pivote , y en el derecho estarán los elementos mayores que el pivote, por ende se tendrá que preguntar a elemento por elemento de cada extremo si es que cumplen la condición mencionada, si es que ambas condiciones no cumplen en cada extremo estos elementos de los extremos deberán intercambiarse (como sale en el siguiente ejemplo), una vez terminada todas las comparaciones , el lado izquierdo y el derecho volverán a particionarse en dos nuevamente (es solo una idea para representar el problema, es decir siempre se trabajará con el mismo arreglo, nunca se partirá en 2 literalmente), para volver hacer el mismo proceso (recursividad ), esto funcionara así hasta que se encuentren todos los elementos ordenados."
      ],
      "metadata": {
        "id": "N6ly5zvhzuRv"
      }
    },
    {
      "cell_type": "markdown",
      "source": [
        "# 2.3. Ejemplo\n",
        "Consideremos el arreglo: \\\n",
        "$Array= [5,8,7,1,3]$\n",
        "\n",
        "Asumimos que escogimos el pivote de al medio (para ser mas visibles las partes)\n",
        "\n",
        "Pivote: $7$\\\n",
        "Array_izq : $[5, 8,7]$\\\n",
        "Array_der : $[1, 3]$\n",
        "\n",
        "* En este caso se compára el primer elemento del lado izquierdo, el ultimo del lado derecho, es decir $7 > 5?$, esto es verdadero por ende prosigue con el ultimo de la derecha $7<3? $ , la cual es falso, como esta condición no cumple , pero la condición del lado izquierdo sí , lo que se hace es comparar con el elemento siguiente del lado izquierdo, es decir $7 > 8 $, esto no cumple , y como ahora ambas condiciones son falsas se intercambian los elementos que no cumplen la condición, quedando:\n",
        "\n",
        "Pivote: $7$\\\n",
        "Array_izq : $[5, 3,7]$\\\n",
        "Array_der : $[1, 8]$\n",
        "\n",
        "* Ahora se compara con el elemento anterior al que ya se le había comparado en lado derecho es decir $7 < 1$, no se cumple, ahora se pregunta al elemento siguiente del lado izquierdo que sería el mismo pivote , $7 > 7$, esto también es falso , por ende se cambian nuevamente, quedando\n",
        "\n",
        "Pivote: $7$\\\n",
        "Array_izq : $[5, 3,1]$\\\n",
        "Array_der : $[7, 8]$\n",
        "\n",
        "*  después de la primera vez, se parte en dos partes quedando de la forma de arriba con un lado izquierdo (menores)y uno derecho (mayores), y se vuelve a repetir el mismo proceso dejando así todos los elementos totalmente ordenados, siempre y cuando se cumplan las condiciones ya requeridas.\n",
        "\n",
        "Array : $[1,3,5,7,8]$\n",
        "\n",
        "<img style=\"display: block;-webkit-user-select: none;margin: auto;cursor: zoom-in;background-color: hsl(0, 0%, 90%);transition: background-color 300ms;\" src=\"https://codigojava.online/wp-content/uploads/2022/02/quicksort-1024x586.jpg\" width=\"366\" height=\"274\">"
      ],
      "metadata": {
        "id": "nAo7si30IGtD"
      }
    },
    {
      "cell_type": "markdown",
      "source": [
        "# 2.4. Ejecución del algoritmo paso a paso (verbose=True)"
      ],
      "metadata": {
        "id": "vb2aUsYlQN0o"
      }
    },
    {
      "cell_type": "markdown",
      "source": [
        "Con la opción verbose `True` se podra ver lo que ocurre "
      ],
      "metadata": {
        "id": "o3OzAeC1VlU4"
      }
    },
    {
      "cell_type": "code",
      "source": [
        "#VERBOSE(True)\n",
        "\n",
        "var = random.randint(1,10)\n",
        "Array = random.sample(range(0,100),var)\n",
        "verbose = True \n",
        "print(color(\"Entrada:\",\"red\"),Array)\n",
        "quicksortF(Array,0,var-1)\n",
        "print(color(\"Salida:\", \"blue\"), Array)"
      ],
      "metadata": {
        "colab": {
          "base_uri": "https://localhost:8080/"
        },
        "id": "WAlLUCGoW9zP",
        "outputId": "98ef2d60-9f1b-4766-9261-eb598b641991"
      },
      "execution_count": 23,
      "outputs": [
        {
          "output_type": "stream",
          "name": "stdout",
          "text": [
            "\u001b[31mEntrada:\u001b[0m [73, 43, 52, 86, 79, 66, 64]\n",
            "\n",
            "Pivote : \u001b[32m73\u001b[0m\n",
            "\n",
            "en la posicion: \u001b[31m6\u001b[0m \n",
            "se cambia el numero:  \u001b[31m64\u001b[0m \n",
            "por el numero \u001b[34m73\u001b[0m \n",
            "en la posicion : \u001b[34m0\u001b[0m \n",
            "\n",
            "[64, 43, 52, 86, 79, 66, 73]\n",
            "\n",
            "Pivote : \u001b[32m73\u001b[0m\n",
            "\n",
            "en la posicion: \u001b[31m5\u001b[0m \n",
            "se cambia el numero:  \u001b[31m66\u001b[0m \n",
            "por el numero \u001b[34m86\u001b[0m \n",
            "en la posicion : \u001b[34m3\u001b[0m \n",
            "\n",
            "[64, 43, 52, 66, 79, 86, 73]\n",
            "\n",
            "Pivote : \u001b[32m64\u001b[0m\n",
            "\n",
            "en la posicion: \u001b[31m2\u001b[0m \n",
            "se cambia el numero:  \u001b[31m52\u001b[0m \n",
            "por el numero \u001b[34m64\u001b[0m \n",
            "en la posicion : \u001b[34m0\u001b[0m \n",
            "\n",
            "[52, 43, 64, 66, 79, 86, 73]\n",
            "\n",
            "Pivote : \u001b[32m52\u001b[0m\n",
            "\n",
            "en la posicion: \u001b[31m1\u001b[0m \n",
            "se cambia el numero:  \u001b[31m43\u001b[0m \n",
            "por el numero \u001b[34m52\u001b[0m \n",
            "en la posicion : \u001b[34m0\u001b[0m \n",
            "\n",
            "[43, 52, 64, 66, 79, 86, 73]\n",
            "\n",
            "Pivote : \u001b[32m79\u001b[0m\n",
            "\n",
            "en la posicion: \u001b[31m6\u001b[0m \n",
            "se cambia el numero:  \u001b[31m73\u001b[0m \n",
            "por el numero \u001b[34m79\u001b[0m \n",
            "en la posicion : \u001b[34m4\u001b[0m \n",
            "\n",
            "[43, 52, 64, 66, 73, 86, 79]\n",
            "\n",
            "Pivote : \u001b[32m86\u001b[0m\n",
            "\n",
            "en la posicion: \u001b[31m6\u001b[0m \n",
            "se cambia el numero:  \u001b[31m79\u001b[0m \n",
            "por el numero \u001b[34m86\u001b[0m \n",
            "en la posicion : \u001b[34m5\u001b[0m \n",
            "\n",
            "[43, 52, 64, 66, 73, 79, 86]\n",
            "\u001b[34mSalida:\u001b[0m [43, 52, 64, 66, 73, 79, 86]\n"
          ]
        }
      ]
    },
    {
      "cell_type": "markdown",
      "source": [
        "3. **Tiempo de ejecución** \\\n",
        "**Teorema (Tiempo de ejecución).**\n",
        "1. El algoritmo **Quick Sort** tiene un `tiempo de ejecución` de **o($n^2$)** en el peor caso.\n",
        "2. El algoritmo **Quick Sort** tiene un `tiempo de ejecución` de **o($n· logn$)** en el mejor caso.\n",
        "3. El algoritmo **Insertion Sort** tiene un `tiempo de ejecución` de **o($n· logn$)**  en el caso promedio para un arreglo aleatorio.\n"
      ],
      "metadata": {
        "id": "FcC86rWOXoVi"
      }
    },
    {
      "cell_type": "markdown",
      "source": [
        "# 5.2. Tiempo de ejecución(experimental)\n",
        "En el siguiente gráfico se reporta el tiempo de ejecución del algoritmo **QuickSort** en función del tamaño del problema para arreglos generados aleatoriamente de tamaños entre $5$ y $500$."
      ],
      "metadata": {
        "id": "BeygG4LFgQE7"
      }
    },
    {
      "cell_type": "code",
      "source": [
        "import matplotlib.pyplot as plt\n",
        "import datetime\n",
        "from timeit import repeat\n",
        "\n",
        "x=[]; y=[];y2=[]\n",
        "\n",
        "for n in range(5,500):\n",
        "\n",
        "  a = random.sample(range(1, 1000), n)\n",
        "\n",
        "  #la función repeat está ejecutando 20 veces quicksortF con el arreglo a y retorna el mejor tiepo obtenido.\n",
        "  t = repeat(setup=\"from __main__ import MergeSort\", stmt=f\"MergeSort({a},{False})\", repeat=1, number=10)\n",
        "  t2 = repeat(setup=\"from __main__ import quicksortF\", stmt=f\"quicksortF({a},{0},{len(a)-1})\", repeat=1, number=10)\n",
        "\n",
        "  x.append(n)\n",
        "  y.append(t)\n",
        "  y2.append(t2)\n",
        "\n",
        "\n",
        "plt.plot(x,y)\n",
        "plt.plot(x,y2)\n",
        "plt.legend([\"MergeSort\",\"quicksortF\"])\n",
        "\n",
        "\n",
        "plt.xlabel('n')\n",
        "plt.ylabel('time in ms')\n",
        "plt.show()"
      ],
      "metadata": {
        "colab": {
          "base_uri": "https://localhost:8080/",
          "height": 279
        },
        "id": "X8pvU36xh0z0",
        "outputId": "a3e535a5-6456-4e41-9bc3-29c62fc0bcc5"
      },
      "execution_count": 22,
      "outputs": [
        {
          "output_type": "display_data",
          "data": {
            "text/plain": [
              "<Figure size 432x288 with 1 Axes>"
            ],
            "image/png": "[encoded data removed]"
          },
          "metadata": {
            "needs_background": "light"
          }
        }
      ]
    },
    {
      "cell_type": "markdown",
      "source": [
        "### Análisis de resultados\n",
        "\n",
        "Ambos graficos se comportan de manera lineal, pero dejando un mejor tiempo es sin duda el algoritmo Quicksort ya que como se evidencia tiene mucho menos tiempo que el MergeSort."
      ],
      "metadata": {
        "id": "p8em6xbgixqC"
      }
    },
    {
      "cell_type": "code",
      "source": [
        "import matplotlib.pyplot as plt\n",
        "import math\n",
        "\n",
        "x=[n for n in range(5,20)] \n",
        "y1=[n**2 for n in range(5,20)] # pero caso\n",
        "y2=[n* math.log2(n) for n in range(5,20)] # mejor caso\n",
        "y=[]; \n",
        "\n",
        "for n in range(5,20):\n",
        "  a = random.sample(range(1, 100), n)\n",
        "  verbose=False\n",
        "  comp = 0\n",
        "  a = quicksortF(a,0,len(a)-1)\n",
        "  y.append(comp)\n",
        "\n",
        "plt.plot(x,y,color='red')\n",
        "plt.plot(x,y1,color='blue')\n",
        "plt.plot(x,y2,color='black')\n",
        "plt.legend([\"Quick Sort\", \"Peor caso teoricamente\", \"Mejor caso teoricamente\"])\n",
        "\n",
        "\n",
        "plt.xlabel('n')\n",
        "plt.ylabel('number of operations')\n",
        "plt.show()"
      ],
      "metadata": {
        "colab": {
          "base_uri": "https://localhost:8080/",
          "height": 279
        },
        "id": "TFVFS3Aq27Z9",
        "outputId": "4374f61b-8620-40ab-e181-9ef45a0cc3bc"
      },
      "execution_count": 19,
      "outputs": [
        {
          "output_type": "display_data",
          "data": {
            "text/plain": [
              "<Figure size 432x288 with 1 Axes>"
            ],
            "image/png": "[encoded data removed]"
          },
          "metadata": {
            "needs_background": "light"
          }
        }
      ]
    },
    {
      "cell_type": "markdown",
      "source": [
        "### Análisis de resultados\n",
        "\n",
        "Este grafico se comporta de manera cuadrática en el peor caso como era de esperar , ya que en el peor caso tiene un tiempo de ejecución cuadratico, donde el mejor caso es basicamente lineal."
      ],
      "metadata": {
        "id": "4a27HRWx38xk"
      }
    }
  ]
}